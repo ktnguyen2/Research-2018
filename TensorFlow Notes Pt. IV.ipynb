{
 "cells": [
  {
   "cell_type": "markdown",
   "metadata": {},
   "source": [
    "Estimator: predictor found from regression (continuous process)\n",
    "\n",
    "Classifier: predictor found from discrete things (\"this\" or \"that\")"
   ]
  },
  {
   "cell_type": "markdown",
   "metadata": {},
   "source": [
    "Alexnet\n",
    "* 8 layers\n",
    "* Input > 5 conv > 3 FC (fully connected)\n",
    "\n",
    "VGG\n",
    "* 16 layers\n",
    "* 13 conv > 3 FC\n",
    "\n",
    "include_top = False // does not include fully connected layers\n",
    "\n",
    "for layer in vgg.layers[:-2] //\n",
    "earlier layers -- weights from imagenet\n",
    "last two layers -- we produce those weights\n",
    "set false for layers that you do not want to train, and set true for layers that you do want to train\n",
    "\n",
    "Dense(128) // add small dense layer\n",
    "Dense (1) // 2 classes, so dense layer has 1 output\n",
    "\n",
    "Adam works better for VGG\n",
    "\n",
    "class_mode = binary // only have 2 classes"
   ]
  },
  {
   "cell_type": "markdown",
   "metadata": {},
   "source": [
    "data augmentation - for when you have limited data"
   ]
  },
  {
   "cell_type": "markdown",
   "metadata": {},
   "source": [
    "- Padding: copy last row/column and apply filter to it\n",
    "- Filter produces weights\n",
    "- Max pooling: picks out maximum number"
   ]
  }
 ],
 "metadata": {
  "kernelspec": {
   "display_name": "Python 3",
   "language": "python",
   "name": "python3"
  },
  "language_info": {
   "codemirror_mode": {
    "name": "ipython",
    "version": 3
   },
   "file_extension": ".py",
   "mimetype": "text/x-python",
   "name": "python",
   "nbconvert_exporter": "python",
   "pygments_lexer": "ipython3",
   "version": "3.6.4"
  }
 },
 "nbformat": 4,
 "nbformat_minor": 2
}
