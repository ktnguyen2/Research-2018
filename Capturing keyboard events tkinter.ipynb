{
 "cells": [
  {
   "cell_type": "code",
   "execution_count": null,
   "metadata": {},
   "outputs": [],
   "source": [
    "\n",
    "from tkinter import *\n",
    "\n",
    "root = Tk()\n",
    "\n",
    "def key(event):\n",
    "    frame.focus_set()\n",
    "    print (\"pressed\", repr(event.char))\n",
    "# repr() returns a string containing a printable representation of an object\n",
    "\n",
    "def callback(event):\n",
    "    frame.focus_set()\n",
    "    print (\"clicked at\", event.x, event.y)\n",
    "\n",
    "frame = Frame(root, width=100, height=100)\n",
    "frame.bind(\"<Return>\", key)\n",
    "frame.bind(\"<Button-1>\", callback)\n",
    "frame.pack()\n",
    "\n",
    "root.mainloop()"
   ]
  },
  {
   "cell_type": "code",
   "execution_count": 3,
   "metadata": {},
   "outputs": [
    {
     "name": "stdout",
     "output_type": "stream",
     "text": [
      "pressed 13\n",
      "pressed 221\n",
      "pressed 219\n",
      "pressed 16\n",
      "pressed 16\n",
      "pressed 16\n",
      "pressed 16\n",
      "pressed 13\n",
      "pressed 13\n",
      "pressed 13\n"
     ]
    }
   ],
   "source": [
    "# When mouse button enters widget, then keyboard events are recorded\n",
    "\n",
    "from tkinter import *\n",
    "\n",
    "root = Tk()\n",
    "\n",
    "def key(event):\n",
    "    frame.focus_set()\n",
    "    print (\"pressed\", repr(event.keycode))\n",
    "\n",
    "def callback(event):\n",
    "    frame.bind(\"<Key>\", key)\n",
    "    frame.focus_set()\n",
    "    #print (\"pressed\", repr(event.char))\n",
    "\n",
    "frame = Frame(root, width=100, height=100)\n",
    "frame.bind(\"<Enter>\", callback)\n",
    "frame.pack()\n",
    "\n",
    "root.mainloop()"
   ]
  }
 ],
 "metadata": {
  "kernelspec": {
   "display_name": "Python 3",
   "language": "python",
   "name": "python3"
  },
  "language_info": {
   "codemirror_mode": {
    "name": "ipython",
    "version": 3
   },
   "file_extension": ".py",
   "mimetype": "text/x-python",
   "name": "python",
   "nbconvert_exporter": "python",
   "pygments_lexer": "ipython3",
   "version": "3.6.4"
  }
 },
 "nbformat": 4,
 "nbformat_minor": 2
}
