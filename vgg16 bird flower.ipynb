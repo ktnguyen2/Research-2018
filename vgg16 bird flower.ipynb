{
 "cells": [
  {
   "cell_type": "code",
   "execution_count": 1,
   "metadata": {},
   "outputs": [
    {
     "name": "stderr",
     "output_type": "stream",
     "text": [
      "C:\\Users\\ktnng\\Anaconda3\\lib\\site-packages\\h5py\\__init__.py:36: FutureWarning: Conversion of the second argument of issubdtype from `float` to `np.floating` is deprecated. In future, it will be treated as `np.float64 == np.dtype(float).type`.\n",
      "  from ._conv import register_converters as _register_converters\n",
      "Using TensorFlow backend.\n"
     ]
    }
   ],
   "source": [
    "from keras.applications.vgg16 import VGG16\n",
    "from keras.preprocessing.image import ImageDataGenerator\n",
    "from keras.layers import Flatten, Dense, Dropout\n",
    "from keras.models import Model, Sequential"
   ]
  },
  {
   "cell_type": "code",
   "execution_count": 2,
   "metadata": {},
   "outputs": [
    {
     "name": "stdout",
     "output_type": "stream",
     "text": [
      "Downloading data from https://github.com/fchollet/deep-learning-models/releases/download/v0.1/vgg16_weights_tf_dim_ordering_tf_kernels_notop.h5\n",
      "58892288/58889256 [==============================] - 21s 0us/step\n",
      "<keras.engine.input_layer.InputLayer object at 0x000001B89740AE80> False\n",
      "<keras.layers.convolutional.Conv2D object at 0x000001B897403400> False\n",
      "<keras.layers.convolutional.Conv2D object at 0x000001B8983F8BA8> False\n",
      "<keras.layers.pooling.MaxPooling2D object at 0x000001B897403320> False\n",
      "<keras.layers.convolutional.Conv2D object at 0x000001B8974033C8> False\n",
      "<keras.layers.convolutional.Conv2D object at 0x000001B898412AC8> False\n",
      "<keras.layers.pooling.MaxPooling2D object at 0x000001B898438278> False\n",
      "<keras.layers.convolutional.Conv2D object at 0x000001B898438080> False\n",
      "<keras.layers.convolutional.Conv2D object at 0x000001B89845DD30> False\n",
      "<keras.layers.convolutional.Conv2D object at 0x000001B898472128> False\n",
      "<keras.layers.pooling.MaxPooling2D object at 0x000001B898496588> False\n",
      "<keras.layers.convolutional.Conv2D object at 0x000001B898482E10> False\n",
      "<keras.layers.convolutional.Conv2D object at 0x000001B8984BBDD8> False\n",
      "<keras.layers.convolutional.Conv2D object at 0x000001B8984C9EB8> False\n",
      "<keras.layers.pooling.MaxPooling2D object at 0x000001B8984F5EF0> False\n",
      "<keras.layers.convolutional.Conv2D object at 0x000001B8984DEF60> False\n",
      "<keras.layers.convolutional.Conv2D object at 0x000001B898517C18> False\n",
      "<keras.layers.convolutional.Conv2D object at 0x000001B89852B5C0> True\n",
      "<keras.layers.pooling.MaxPooling2D object at 0x000001B898552518> True\n",
      "_________________________________________________________________\n",
      "Layer (type)                 Output Shape              Param #   \n",
      "=================================================================\n",
      "vgg16 (Model)                (None, 7, 7, 512)         14714688  \n",
      "_________________________________________________________________\n",
      "flatten_1 (Flatten)          (None, 25088)             0         \n",
      "_________________________________________________________________\n",
      "dense_1 (Dense)              (None, 128)               3211392   \n",
      "_________________________________________________________________\n",
      "dropout_1 (Dropout)          (None, 128)               0         \n",
      "_________________________________________________________________\n",
      "dense_2 (Dense)              (None, 1)                 129       \n",
      "=================================================================\n",
      "Total params: 17,926,209\n",
      "Trainable params: 5,571,329\n",
      "Non-trainable params: 12,354,880\n",
      "_________________________________________________________________\n"
     ]
    }
   ],
   "source": [
    "vgg = VGG16(include_top=False, weights='imagenet', input_shape=(224,224,3))\n",
    "# include_top = False // does not include fully connected layers\n",
    "# Freeze the layers except the last 4 layers\n",
    "\n",
    "for layer in vgg.layers[:-2]:\n",
    "    layer.trainable = False\n",
    "# earlier layers -- weights from imagenet\n",
    "# last two layers -- we produce those weights\n",
    "# set false for layers that you do not want to train, and set true for layers that you do want to train\n",
    "\n",
    "for layer in vgg.layers:\n",
    "    print(layer, layer.trainable)\n",
    "    \n",
    "# Create the model\n",
    "model = Sequential()\n",
    " \n",
    "# Add the vgg convolutional base model\n",
    "model.add(vgg)\n",
    " \n",
    "# Add new layers\n",
    "model.add(Flatten())\n",
    "model.add(Dense(128, activation='relu'))\n",
    "model.add(Dropout(0.5))\n",
    "model.add(Dense(1, activation='sigmoid'))\n",
    "model.summary()"
   ]
  },
  {
   "cell_type": "code",
   "execution_count": 3,
   "metadata": {},
   "outputs": [],
   "source": [
    "model.compile(optimizer='adam',\n",
    "              loss='binary_crossentropy',\n",
    "              metrics=['accuracy'])"
   ]
  },
  {
   "cell_type": "code",
   "execution_count": 4,
   "metadata": {},
   "outputs": [],
   "source": [
    "train_datagen = ImageDataGenerator(rescale=1./255)\n",
    "val_datagen = ImageDataGenerator(rescale=1./255)\n",
    "test_datagen = ImageDataGenerator(rescale=1./255)"
   ]
  },
  {
   "cell_type": "code",
   "execution_count": 9,
   "metadata": {},
   "outputs": [
    {
     "name": "stdout",
     "output_type": "stream",
     "text": [
      "Found 156 images belonging to 2 classes.\n",
      "Found 20 images belonging to 2 classes.\n",
      "Found 20 images belonging to 2 classes.\n"
     ]
    }
   ],
   "source": [
    "image_dir = 'C:/Users/ktnng/Documents/SCU/2018 Research/Images_mod/Images_mod'\n",
    "\n",
    "train_generator = train_datagen.flow_from_directory(\n",
    "        image_dir+'/train',\n",
    "        target_size=(224, 224),\n",
    "        batch_size=16,\n",
    "        class_mode='binary')\n",
    "\n",
    "val_generator = val_datagen.flow_from_directory(\n",
    "        image_dir+'/val',\n",
    "        target_size=(224, 224),\n",
    "        batch_size=16,\n",
    "        class_mode='binary')\n",
    "\n",
    "test_generator = test_datagen.flow_from_directory(\n",
    "        image_dir+'/test',\n",
    "        target_size=(224, 224),\n",
    "        batch_size=32,\n",
    "        class_mode='binary')\n"
   ]
  },
  {
   "cell_type": "code",
   "execution_count": 10,
   "metadata": {},
   "outputs": [
    {
     "name": "stdout",
     "output_type": "stream",
     "text": [
      "Epoch 1/1\n",
      "10/10 [==============================] - 249s 25s/step - loss: 1.1863 - acc: 0.6911 - val_loss: 0.0480 - val_acc: 1.0000\n"
     ]
    },
    {
     "data": {
      "text/plain": [
       "<keras.callbacks.History at 0x1b8973cc470>"
      ]
     },
     "execution_count": 10,
     "metadata": {},
     "output_type": "execute_result"
    }
   ],
   "source": [
    "model.fit_generator(\n",
    "        train_generator,\n",
    "        epochs=1,\n",
    "        validation_data=val_generator,\n",
    "        validation_steps=50)"
   ]
  },
  {
   "cell_type": "code",
   "execution_count": 11,
   "metadata": {},
   "outputs": [
    {
     "name": "stdout",
     "output_type": "stream",
     "text": [
      "Test loss 0.07304180413484573\n",
      "Test accuracy 1.0\n"
     ]
    }
   ],
   "source": [
    "x,y = model.evaluate_generator(test_generator)\n",
    "print(\"Test loss {}\".format(x))\n",
    "print(\"Test accuracy {}\".format(y))"
   ]
  },
  {
   "cell_type": "code",
   "execution_count": null,
   "metadata": {},
   "outputs": [],
   "source": []
  }
 ],
 "metadata": {
  "kernelspec": {
   "display_name": "Python 3",
   "language": "python",
   "name": "python3"
  },
  "language_info": {
   "codemirror_mode": {
    "name": "ipython",
    "version": 3
   },
   "file_extension": ".py",
   "mimetype": "text/x-python",
   "name": "python",
   "nbconvert_exporter": "python",
   "pygments_lexer": "ipython3",
   "version": "3.6.4"
  }
 },
 "nbformat": 4,
 "nbformat_minor": 2
}
