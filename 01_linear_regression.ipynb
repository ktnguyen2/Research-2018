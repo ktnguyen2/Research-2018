{
 "cells": [
  {
   "cell_type": "markdown",
   "metadata": {},
   "source": [
    "In this exercise you will apply what you learned in the lecture to experiment with a working Linear Regression model. The model will be very similar to the one discussed in the lecture. You will run the Jupyter Notebook cells below, to create the model, train the model, and test the output"
   ]
  },
  {
   "cell_type": "code",
   "execution_count": 1,
   "metadata": {},
   "outputs": [
    {
     "name": "stderr",
     "output_type": "stream",
     "text": [
      "C:\\Users\\ktnng\\Anaconda3\\lib\\site-packages\\h5py\\__init__.py:36: FutureWarning: Conversion of the second argument of issubdtype from `float` to `np.floating` is deprecated. In future, it will be treated as `np.float64 == np.dtype(float).type`.\n",
      "  from ._conv import register_converters as _register_converters\n"
     ]
    },
    {
     "name": "stdout",
     "output_type": "stream",
     "text": [
      "Populating the interactive namespace from numpy and matplotlib\n",
      "cell finished\n"
     ]
    }
   ],
   "source": [
    "# cell 1\n",
    "# notebook version 1.2\n",
    "\n",
    "import os\n",
    "\n",
    "import numpy as np\n",
    "import tensorflow as tf\n",
    "\n",
    "# A special command for IPython Notebooks that\n",
    "# intructs Matplotlib to display plots in the notebook\n",
    "\n",
    "%pylab inline\n",
    "print ('cell finished')"
   ]
  },
  {
   "cell_type": "markdown",
   "metadata": {},
   "source": [
    "This cell defines variables PERSQFT and BASE that will be used to generate the test data. Variable PERSQFT is the cost per house square foot divided by 1000. Variable BASE helps with tiny houses so that the price doesn't go to 0 for a very small house. (Notice that the price per sq ft is based on a cheap house in California)\n",
    "\n",
    "Variables PERSQFT and BASE will be the values that the model tries to learn. Here we are using them to generate the training data so that we can see if the model can learn those values.\n",
    "\n",
    "Defining them in a separate cell allows you to easily change the values. You can experiment with the learning rate and number of EPOCHS to see if it makes a difference during training"
   ]
  },
  {
   "cell_type": "code",
   "execution_count": 61,
   "metadata": {},
   "outputs": [
    {
     "name": "stdout",
     "output_type": "stream",
     "text": [
      "cell finished\n"
     ]
    }
   ],
   "source": [
    "# cell 2\n",
    "\n",
    "tf.reset_default_graph()\n",
    "sess = tf.Session()\n",
    "\n",
    "PERSQFT = .4   # $400 per sq ft\n",
    "BASE = .35     # $350K base price \n",
    "\n",
    "LEARNING_RATE = .01\n",
    "EPOCHS = 3000\n",
    "ITEMS = 100\n",
    "\n",
    "print ('cell finished')"
   ]
  },
  {
   "cell_type": "markdown",
   "metadata": {},
   "source": [
    "This cell uses the constants from the cell above with a standard python function to create the training data as shown in the lecture."
   ]
  },
  {
   "cell_type": "code",
   "execution_count": 62,
   "metadata": {},
   "outputs": [
    {
     "name": "stdout",
     "output_type": "stream",
     "text": [
      "cell finished\n"
     ]
    }
   ],
   "source": [
    "#cell 3\n",
    "\n",
    "def make_noisy_data(w=PERSQFT, b=BASE, n=ITEMS):\n",
    "    sqft = np.random.rand(n).astype(np.float32) * 6 # multiply by 6 for max sq ft of 6000\n",
    "    noise = np.random.normal(scale=0.08, size=len(sqft))\n",
    "    price = w * sqft + b + noise\n",
    "    return sqft, price\n",
    "\n",
    "print ('cell finished')"
   ]
  },
  {
   "cell_type": "markdown",
   "metadata": {},
   "source": [
    "This cell calls the make_noisy_data function and assigns the outputs to two variables sqft_train and price_train. Variable sqft_train will be the x values fed into your linear regression model and price_train will be the expected output."
   ]
  },
  {
   "cell_type": "code",
   "execution_count": 63,
   "metadata": {},
   "outputs": [
    {
     "name": "stdout",
     "output_type": "stream",
     "text": [
      "cell finished\n"
     ]
    }
   ],
   "source": [
    "# cell 4\n",
    "\n",
    "sqft_train, price_train = make_noisy_data()\n",
    "\n",
    "\n",
    "print ('cell finished')"
   ]
  },
  {
   "cell_type": "markdown",
   "metadata": {},
   "source": [
    "This cell plots our training data so that we can get an idea of its general distribution. It is a linear distribution with a bit of noise."
   ]
  },
  {
   "cell_type": "code",
   "execution_count": 64,
   "metadata": {},
   "outputs": [
    {
     "data": {
      "text/plain": [
       "[<matplotlib.lines.Line2D at 0x1b4602104a8>]"
      ]
     },
     "execution_count": 64,
     "metadata": {},
     "output_type": "execute_result"
    },
    {
     "data": {
      "image/png": "[encoded data removed]",
      "text/plain": [
       "<matplotlib.figure.Figure at 0x1b4602029e8>"
      ]
     },
     "metadata": {},
     "output_type": "display_data"
    }
   ],
   "source": [
    "# cell 5\n",
    "\n",
    "# Run this cell to plot the data.\n",
    "\n",
    "pylab.plot(sqft_train, price_train, 'b.')\n"
   ]
  },
  {
   "cell_type": "markdown",
   "metadata": {},
   "source": [
    "Variables w and b represent the two values that we will try to learn from our training data. They will be initialized to 0 and successively updated as the training process proceeds. At the end of the training these values should approximate the per sq ft price and the base used to create the training data. "
   ]
  },
  {
   "cell_type": "code",
   "execution_count": 65,
   "metadata": {},
   "outputs": [
    {
     "name": "stdout",
     "output_type": "stream",
     "text": [
      "cell finished\n"
     ]
    }
   ],
   "source": [
    "# cell 6\n",
    "\n",
    "x_placeholder = tf.placeholder(shape=[None], dtype=tf.float32)\n",
    "y_placeholder = tf.placeholder(shape=[None], dtype=tf.float32)\n",
    "\n",
    "print ('cell finished')"
   ]
  },
  {
   "cell_type": "markdown",
   "metadata": {},
   "source": [
    "Let's see what happens when we print the two placeholders. Do they have any values yet?"
   ]
  },
  {
   "cell_type": "code",
   "execution_count": 66,
   "metadata": {},
   "outputs": [
    {
     "name": "stdout",
     "output_type": "stream",
     "text": [
      "Tensor(\"Placeholder:0\", shape=(?,), dtype=float32)\n",
      "Tensor(\"Placeholder_1:0\", shape=(?,), dtype=float32)\n",
      "cell finished\n"
     ]
    }
   ],
   "source": [
    "# cell 7\n",
    "\n",
    "print(x_placeholder)\n",
    "print(y_placeholder)\n",
    "\n",
    "print ('cell finished')"
   ]
  },
  {
   "cell_type": "markdown",
   "metadata": {},
   "source": [
    "In the next cell will be defined the variables that will learn the values of price per sq ft and the base price. These two variables will not be initialized to the correct values, but will learn the correct values from the training data and training process. \n",
    "\n",
    "These variables start out at a random value based on the TensorFlow random normal distribution as discussed in the lecture. "
   ]
  },
  {
   "cell_type": "code",
   "execution_count": 67,
   "metadata": {},
   "outputs": [
    {
     "name": "stdout",
     "output_type": "stream",
     "text": [
      "cell finished\n"
     ]
    }
   ],
   "source": [
    "# cell 8\n",
    "\n",
    "w = tf.Variable(tf.random_normal([1]), name='w')\n",
    "b = tf.Variable(tf.random_normal([1]), name='b')\n",
    "# This is the same as y = tf.add(tf.mul(w, x_placeholder), b), but looks nicer\n",
    "y = w * x_placeholder + b\n",
    "\n",
    "print ('cell finished')"
   ]
  },
  {
   "cell_type": "markdown",
   "metadata": {},
   "source": [
    "Just for fun what happens when we print out the value of w, b, and y. Do you think they will have random values?"
   ]
  },
  {
   "cell_type": "code",
   "execution_count": 68,
   "metadata": {},
   "outputs": [
    {
     "name": "stdout",
     "output_type": "stream",
     "text": [
      "<tf.Variable 'w:0' shape=(1,) dtype=float32_ref>\n",
      "<tf.Variable 'b:0' shape=(1,) dtype=float32_ref>\n",
      "Tensor(\"add:0\", shape=(?,), dtype=float32)\n",
      "cell finished\n"
     ]
    }
   ],
   "source": [
    "# cell 9\n",
    "\n",
    "print(w)\n",
    "print(b)\n",
    "print(y)\n",
    "\n",
    "print ('cell finished')"
   ]
  },
  {
   "cell_type": "markdown",
   "metadata": {},
   "source": [
    "The variables do not have values until they are initialized as discussed in the lecture. \n",
    "\n",
    "Next let's define the loss and the optimizer so that we can train the model. The loss will be squared error and we will use the standard gradient descent optimizer discussed in the lecture."
   ]
  },
  {
   "cell_type": "code",
   "execution_count": 69,
   "metadata": {},
   "outputs": [
    {
     "name": "stdout",
     "output_type": "stream",
     "text": [
      "cell finished\n"
     ]
    }
   ],
   "source": [
    "# cell 10\n",
    "\n",
    "loss = tf.reduce_mean(tf.square(y - y_placeholder))\n",
    "\n",
    "optimizer = tf.train.GradientDescentOptimizer(LEARNING_RATE)\n",
    "train = optimizer.minimize(loss)\n",
    "\n",
    "print ('cell finished')"
   ]
  },
  {
   "cell_type": "markdown",
   "metadata": {},
   "source": [
    "Again let's print out the values of the loss, optimizer and the training step. Are the values expected?"
   ]
  },
  {
   "cell_type": "code",
   "execution_count": 70,
   "metadata": {},
   "outputs": [
    {
     "name": "stdout",
     "output_type": "stream",
     "text": [
      "loss: Tensor(\"Mean:0\", shape=(), dtype=float32)\n",
      "optimizer: <tensorflow.python.training.gradient_descent.GradientDescentOptimizer object at 0x000001B460242940>\n",
      "train_step: name: \"GradientDescent\"\n",
      "op: \"NoOp\"\n",
      "input: \"^GradientDescent/update_w/ApplyGradientDescent\"\n",
      "input: \"^GradientDescent/update_b/ApplyGradientDescent\"\n",
      "\n",
      "cell finished\n"
     ]
    }
   ],
   "source": [
    "# cell 11\n",
    "\n",
    "print(\"loss:\", loss)\n",
    "print(\"optimizer:\", optimizer)\n",
    "print(\"train_step:\", train)\n",
    "\n",
    "print ('cell finished')"
   ]
  },
  {
   "cell_type": "markdown",
   "metadata": {},
   "source": [
    "Remember that TensorFlow requires variables to be initialized, so the easiest is to run the global initializer for all variables"
   ]
  },
  {
   "cell_type": "code",
   "execution_count": 71,
   "metadata": {},
   "outputs": [
    {
     "name": "stdout",
     "output_type": "stream",
     "text": [
      "cell finished\n"
     ]
    }
   ],
   "source": [
    "# cell 12\n",
    "\n",
    "sess.run(tf.global_variables_initializer())\n",
    "# initalizes all the variables\n",
    "\n",
    "print ('cell finished')"
   ]
  },
  {
   "cell_type": "markdown",
   "metadata": {},
   "source": [
    "Let's test the model before training to see how bad it is. Any guesses as to how bad it will be? Since w and b are random there is a chance (albeit small) that the values could be close to correct, but normally it's pretty terrible. "
   ]
  },
  {
   "cell_type": "code",
   "execution_count": 72,
   "metadata": {},
   "outputs": [
    {
     "name": "stdout",
     "output_type": "stream",
     "text": [
      "price should be [1.9500000000000002] but is [-3.2562413]\n"
     ]
    }
   ],
   "source": [
    "# cell 13\n",
    "\n",
    "test_sqft = 4\n",
    "expPrice = test_sqft * PERSQFT + BASE\n",
    "\n",
    "wval,bval = sess.run([w,b])\n",
    "\n",
    "outval = wval * test_sqft + bval\n",
    "print (\"price should be [{}] but is {}\".format(expPrice,outval))"
   ]
  },
  {
   "cell_type": "markdown",
   "metadata": {},
   "source": [
    "This cell defines the training loop. It will use the number of EPOCHS specified in the cell near the top to determine how many iterations to train. Each training iteration will update the values of w and b based on the loss calculated by the optimizer. Every 20 steps it will print the current values of w and b so that we can see the progress. The added value of this is that we can see when the values start to stabilize and determine whether our learning rate and number of epochs are too small or too large."
   ]
  },
  {
   "cell_type": "code",
   "execution_count": 73,
   "metadata": {},
   "outputs": [
    {
     "name": "stdout",
     "output_type": "stream",
     "text": [
      "step = 0 w = [-0.5556735] b = [0.3137017]\n",
      "step = 20 w = [0.35512486] b = [0.52374786]\n",
      "step = 40 w = [0.36186573] b = [0.5067163]\n",
      "step = 60 w = [0.36592957] b = [0.49069208]\n",
      "step = 80 w = [0.3696227] b = [0.47610775]\n",
      "step = 100 w = [0.37298363] b = [0.4628351]\n",
      "step = 120 w = [0.3760423] b = [0.45075622]\n",
      "step = 140 w = [0.3788259] b = [0.4397636]\n",
      "step = 160 w = [0.38135916] b = [0.4297597]\n",
      "step = 180 w = [0.38366458] b = [0.42065546]\n",
      "step = 200 w = [0.38576263] b = [0.41237012]\n",
      "step = 220 w = [0.38767198] b = [0.4048299]\n",
      "step = 240 w = [0.38940966] b = [0.3979678]\n",
      "step = 260 w = [0.390991] b = [0.39172286]\n",
      "step = 280 w = [0.3924302] b = [0.3860396]\n",
      "step = 300 w = [0.39373985] b = [0.3808675]\n",
      "step = 320 w = [0.39493176] b = [0.3761606]\n",
      "step = 340 w = [0.39601648] b = [0.371877]\n",
      "step = 360 w = [0.39700362] b = [0.3679787]\n",
      "step = 380 w = [0.39790198] b = [0.36443102]\n",
      "step = 400 w = [0.39871955] b = [0.36120236]\n",
      "step = 420 w = [0.3994636] b = [0.35826415]\n",
      "step = 440 w = [0.4001407] b = [0.35559013]\n",
      "step = 460 w = [0.40075696] b = [0.35315657]\n",
      "step = 480 w = [0.40131775] b = [0.35094193]\n",
      "step = 500 w = [0.4018281] b = [0.34892648]\n",
      "step = 520 w = [0.40229258] b = [0.3470923]\n",
      "step = 540 w = [0.40271527] b = [0.345423]\n",
      "step = 560 w = [0.40309998] b = [0.34390387]\n",
      "step = 580 w = [0.40345004] b = [0.3425214]\n",
      "step = 600 w = [0.40376863] b = [0.34126326]\n",
      "step = 620 w = [0.40405858] b = [0.34011826]\n",
      "step = 640 w = [0.4043224] b = [0.33907625]\n",
      "step = 660 w = [0.40456256] b = [0.33812797]\n",
      "step = 680 w = [0.40478107] b = [0.33726498]\n",
      "step = 700 w = [0.40497997] b = [0.3364796]\n",
      "step = 720 w = [0.40516096] b = [0.3357648]\n",
      "step = 740 w = [0.40532568] b = [0.33511436]\n",
      "step = 760 w = [0.4054756] b = [0.3345224]\n",
      "step = 780 w = [0.405612] b = [0.3339837]\n",
      "step = 800 w = [0.40573618] b = [0.33349338]\n",
      "step = 820 w = [0.40584916] b = [0.33304712]\n",
      "step = 840 w = [0.40595198] b = [0.3326411]\n",
      "step = 860 w = [0.40604556] b = [0.33227158]\n",
      "step = 880 w = [0.4061307] b = [0.3319353]\n",
      "step = 900 w = [0.4062082] b = [0.33162922]\n",
      "step = 920 w = [0.40627873] b = [0.3313507]\n",
      "step = 940 w = [0.4063429] b = [0.33109733]\n",
      "step = 960 w = [0.4064013] b = [0.33086663]\n",
      "step = 980 w = [0.40645447] b = [0.3306567]\n",
      "step = 1000 w = [0.40650284] b = [0.33046564]\n",
      "step = 1020 w = [0.4065469] b = [0.33029178]\n",
      "step = 1040 w = [0.40658695] b = [0.3301335]\n",
      "step = 1060 w = [0.40662342] b = [0.32998952]\n",
      "step = 1080 w = [0.4066566] b = [0.32985854]\n",
      "step = 1100 w = [0.40668678] b = [0.3297393]\n",
      "step = 1120 w = [0.40671426] b = [0.32963076]\n",
      "step = 1140 w = [0.40673926] b = [0.32953203]\n",
      "step = 1160 w = [0.40676206] b = [0.32944208]\n",
      "step = 1180 w = [0.40678278] b = [0.32936022]\n",
      "step = 1200 w = [0.4068016] b = [0.32928574]\n",
      "step = 1220 w = [0.40681878] b = [0.32921797]\n",
      "step = 1240 w = [0.4068344] b = [0.32915628]\n",
      "step = 1260 w = [0.4068486] b = [0.3291002]\n",
      "step = 1280 w = [0.40686154] b = [0.32904914]\n",
      "step = 1300 w = [0.4068733] b = [0.32900268]\n",
      "step = 1320 w = [0.40688398] b = [0.32896042]\n",
      "step = 1340 w = [0.40689376] b = [0.32892194]\n",
      "step = 1360 w = [0.40690258] b = [0.32888693]\n",
      "step = 1380 w = [0.40691066] b = [0.32885504]\n",
      "step = 1400 w = [0.40691802] b = [0.32882604]\n",
      "step = 1420 w = [0.40692472] b = [0.32879964]\n",
      "step = 1440 w = [0.4069308] b = [0.32877558]\n",
      "step = 1460 w = [0.40693632] b = [0.32875374]\n",
      "step = 1480 w = [0.40694135] b = [0.32873386]\n",
      "step = 1500 w = [0.40694594] b = [0.32871577]\n",
      "step = 1520 w = [0.40695015] b = [0.3286993]\n",
      "step = 1540 w = [0.4069539] b = [0.3286843]\n",
      "step = 1560 w = [0.4069574] b = [0.32867065]\n",
      "step = 1580 w = [0.4069605] b = [0.32865822]\n",
      "step = 1600 w = [0.4069634] b = [0.32864693]\n",
      "step = 1620 w = [0.40696597] b = [0.32863662]\n",
      "step = 1640 w = [0.40696836] b = [0.32862732]\n",
      "step = 1660 w = [0.40697053] b = [0.32861874]\n",
      "step = 1680 w = [0.40697247] b = [0.328611]\n",
      "step = 1700 w = [0.40697426] b = [0.32860398]\n",
      "step = 1720 w = [0.40697592] b = [0.32859755]\n",
      "step = 1740 w = [0.40697736] b = [0.3285917]\n",
      "step = 1760 w = [0.4069787] b = [0.32858637]\n",
      "step = 1780 w = [0.4069799] b = [0.3285816]\n",
      "step = 1800 w = [0.40698105] b = [0.32857728]\n",
      "step = 1820 w = [0.4069821] b = [0.3285731]\n",
      "step = 1840 w = [0.406983] b = [0.32856953]\n",
      "step = 1860 w = [0.40698382] b = [0.32856616]\n",
      "step = 1880 w = [0.40698457] b = [0.32856318]\n",
      "step = 1900 w = [0.40698528] b = [0.3285604]\n",
      "step = 1920 w = [0.40698588] b = [0.32855803]\n",
      "step = 1940 w = [0.40698647] b = [0.32855564]\n",
      "step = 1960 w = [0.40698704] b = [0.32855365]\n",
      "step = 1980 w = [0.4069875] b = [0.32855186]\n",
      "step = 2000 w = [0.40698794] b = [0.32855007]\n",
      "step = 2020 w = [0.40698838] b = [0.32854828]\n",
      "step = 2040 w = [0.4069887] b = [0.328547]\n",
      "step = 2060 w = [0.406989] b = [0.3285458]\n",
      "step = 2080 w = [0.4069893] b = [0.32854462]\n",
      "step = 2100 w = [0.4069896] b = [0.32854342]\n",
      "step = 2120 w = [0.4069899] b = [0.32854223]\n",
      "step = 2140 w = [0.40699008] b = [0.32854146]\n",
      "step = 2160 w = [0.40699026] b = [0.32854086]\n",
      "step = 2180 w = [0.40699038] b = [0.32854027]\n",
      "step = 2200 w = [0.40699056] b = [0.32853967]\n",
      "step = 2220 w = [0.40699068] b = [0.32853907]\n",
      "step = 2240 w = [0.40699086] b = [0.32853848]\n",
      "step = 2260 w = [0.40699098] b = [0.32853788]\n",
      "step = 2280 w = [0.40699112] b = [0.3285373]\n",
      "step = 2300 w = [0.40699127] b = [0.3285367]\n",
      "step = 2320 w = [0.40699142] b = [0.3285361]\n",
      "step = 2340 w = [0.40699145] b = [0.32853594]\n",
      "step = 2360 w = [0.40699145] b = [0.32853594]\n",
      "step = 2380 w = [0.40699145] b = [0.32853594]\n",
      "step = 2400 w = [0.40699145] b = [0.32853594]\n",
      "step = 2420 w = [0.40699145] b = [0.32853594]\n",
      "step = 2440 w = [0.40699145] b = [0.32853594]\n",
      "step = 2460 w = [0.40699145] b = [0.32853594]\n",
      "step = 2480 w = [0.40699145] b = [0.32853594]\n",
      "step = 2500 w = [0.40699145] b = [0.32853594]\n",
      "step = 2520 w = [0.40699145] b = [0.32853594]\n",
      "step = 2540 w = [0.40699145] b = [0.32853594]\n",
      "step = 2560 w = [0.40699145] b = [0.32853594]\n",
      "step = 2580 w = [0.40699145] b = [0.32853594]\n",
      "step = 2600 w = [0.40699145] b = [0.32853594]\n",
      "step = 2620 w = [0.40699145] b = [0.32853594]\n",
      "step = 2640 w = [0.40699145] b = [0.32853594]\n",
      "step = 2660 w = [0.40699145] b = [0.32853594]\n",
      "step = 2680 w = [0.40699145] b = [0.32853594]\n",
      "step = 2700 w = [0.40699145] b = [0.32853594]\n",
      "step = 2720 w = [0.40699145] b = [0.32853594]\n",
      "step = 2740 w = [0.40699145] b = [0.32853594]\n",
      "step = 2760 w = [0.40699145] b = [0.32853594]\n",
      "step = 2780 w = [0.40699145] b = [0.32853594]\n",
      "step = 2800 w = [0.40699145] b = [0.32853594]\n",
      "step = 2820 w = [0.40699145] b = [0.32853594]\n",
      "step = 2840 w = [0.40699145] b = [0.32853594]\n",
      "step = 2860 w = [0.40699145] b = [0.32853594]\n",
      "step = 2880 w = [0.40699145] b = [0.32853594]\n",
      "step = 2900 w = [0.40699145] b = [0.32853594]\n",
      "step = 2920 w = [0.40699145] b = [0.32853594]\n",
      "step = 2940 w = [0.40699145] b = [0.32853594]\n",
      "step = 2960 w = [0.40699145] b = [0.32853594]\n",
      "step = 2980 w = [0.40699145] b = [0.32853594]\n",
      "cell finished\n"
     ]
    }
   ],
   "source": [
    "# cell 14\n",
    "\n",
    "for step in range(EPOCHS):\n",
    "\n",
    "    # - train will use the optimizer to adjust our variables to reduce loss\n",
    "    result = sess.run([train],feed_dict={x_placeholder: sqft_train, y_placeholder: price_train})\n",
    "\n",
    "    if step % 20 == 0:\n",
    "        wt, bt = sess.run([w,b])\n",
    "        print('step = {} w = {} b = {}'.format( step, wt, bt))\n",
    "\n",
    "\n",
    "print ('cell finished')"
   ]
  },
  {
   "cell_type": "markdown",
   "metadata": {},
   "source": [
    "This cell simply prints out the values of our trainable values for price per sq ft and base price. Notice that we need to run the session to retrieve the values. However the session is not really run once more but cached values are retrieved. "
   ]
  },
  {
   "cell_type": "code",
   "execution_count": 74,
   "metadata": {},
   "outputs": [
    {
     "name": "stdout",
     "output_type": "stream",
     "text": [
      "per sq ft = [406.99146]\n",
      "base price = [328.53595]\n"
     ]
    }
   ],
   "source": [
    "# cell 15\n",
    "\n",
    "wval = sess.run(w)\n",
    "bval = sess.run(b)\n",
    "\n",
    "print('per sq ft = {}'.format(wval*1000))\n",
    "print('base price = {}'.format(bval*1000))"
   ]
  },
  {
   "cell_type": "markdown",
   "metadata": {},
   "source": [
    "Now that the training has run we can plot the values for w and b and see how closely they matched the training data. Ideally the line should bisect the training data. What would be reasons that it did not?"
   ]
  },
  {
   "cell_type": "code",
   "execution_count": 75,
   "metadata": {},
   "outputs": [
    {
     "name": "stdout",
     "output_type": "stream",
     "text": [
      "w: 0.406991, b: 0.328536\n"
     ]
    },
    {
     "data": {
      "text/plain": [
       "[<matplotlib.lines.Line2D at 0x1b4602f49b0>]"
      ]
     },
     "execution_count": 75,
     "metadata": {},
     "output_type": "execute_result"
    },
    {
     "data": {
      "image/png": "[encoded data removed]",
      "text/plain": [
       "<matplotlib.figure.Figure at 0x1b4602dd7f0>"
      ]
     },
     "metadata": {},
     "output_type": "display_data"
    }
   ],
   "source": [
    "# cell 16\n",
    "\n",
    "print (\"w: %f, b: %f\" % (wval, bval))\n",
    "pylab.plot(sqft_train, price_train, 'b.')\n",
    "x = np.linspace(0,6,100)\n",
    "y = x * wval + bval\n",
    "pylab.plot(x,y, 'r.')"
   ]
  },
  {
   "cell_type": "markdown",
   "metadata": {},
   "source": [
    "As you can see the line fits the data pretty well with the default parameters for EPOCHS and LEARNING_RATE. Are those optimal values? Can you get just as good results with different values?\n",
    "\n",
    "Also experiment with the price per sq ft and base price to make sure the model can still learn the values"
   ]
  },
  {
   "cell_type": "markdown",
   "metadata": {},
   "source": [
    "**IMPORTANT: When you are finished make sure you go to the Jupyter notebook “File” menu above and select “Close and halt”. This will shutdown this notebook and take you back to the Jupyter Notebook Home tab.**"
   ]
  },
  {
   "cell_type": "code",
   "execution_count": null,
   "metadata": {
    "collapsed": true
   },
   "outputs": [],
   "source": []
  }
 ],
 "metadata": {
  "celltoolbar": "Raw Cell Format",
  "kernelspec": {
   "display_name": "Python 3",
   "language": "python",
   "name": "python3"
  },
  "language_info": {
   "codemirror_mode": {
    "name": "ipython",
    "version": 3
   },
   "file_extension": ".py",
   "mimetype": "text/x-python",
   "name": "python",
   "nbconvert_exporter": "python",
   "pygments_lexer": "ipython3",
   "version": "3.6.4"
  }
 },
 "nbformat": 4,
 "nbformat_minor": 2
}
