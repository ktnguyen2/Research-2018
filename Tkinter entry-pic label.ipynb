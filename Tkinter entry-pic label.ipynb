{
 "cells": [
  {
   "cell_type": "code",
   "execution_count": null,
   "metadata": {},
   "outputs": [],
   "source": [
    "from tkinter import *\n",
    "\n",
    "master = Tk()\n",
    "Label(master, text=\"Label Name\").grid(row=0)\n",
    "\n",
    "e1 = Text(master)\n",
    "#input = master.text.get(\"1.0\",END)\n",
    "\n",
    "e1.grid(row=0, column=1)\n",
    "\n",
    "mainloop()"
   ]
  },
  {
   "cell_type": "code",
   "execution_count": null,
   "metadata": {},
   "outputs": [],
   "source": [
    "import tkinter as tk\n",
    "root1 = tk.Tk()\n",
    "label = tk.Label(root1, text=\"Label\")\n",
    "entry = tk.Entry(root1)\n",
    "label.pack(side=tk.TOP)\n",
    "entry.pack()\n",
    "root1.mainloop()\n",
    "\n"
   ]
  },
  {
   "cell_type": "code",
   "execution_count": null,
   "metadata": {},
   "outputs": [],
   "source": [
    "import tkinter as tk\n",
    "root2  = tk.Tk()\n",
    "label2 = tk.Label(root2, text='Choose a button')\n",
    "buttonstr = tk.StringVar()\n",
    "buttonA = tk.Radiobutton(root2, text='Button A', variable=buttonstr, value='ButtonA string')\n",
    "buttonB = tk.Radiobutton(root2, text='Button B', variable=buttonstr, value='ButtonB string')\n",
    "buttonC = tk.Radiobutton(root2, text='Button C', variable=buttonstr, value='ButtonC string')\n",
    "\n",
    "def showstr(event=None):\n",
    "    print(buttonstr.get())\n",
    "    \n",
    "buttonA.config(command=showstr)\n",
    "buttonB.config(command=showstr)\n",
    "buttonC.config(command=showstr)\n",
    "\n",
    "label2.grid(column=0, row=0)\n",
    "buttonA.grid(column=0, row=1)\n",
    "buttonB.grid(column=0, row=2)\n",
    "buttonC.grid(column=0, row=3)\n",
    "buttonA.select()\n",
    "\n",
    "def showentry(event):\n",
    "    print(entry.get())\n",
    "    \n",
    "entry.bind('<Enter>', showentry)\n",
    "\n",
    "root2.mainloop()"
   ]
  },
  {
   "cell_type": "code",
   "execution_count": null,
   "metadata": {},
   "outputs": [],
   "source": [
    "import tkinter as tk\n",
    "\n",
    "# Modified Button Click Function   # 1\n",
    "def clickMe():                     # 2\n",
    "    action.configure(text='Hello ' + name.get())\n",
    "    \n",
    "# Position Button in second row, second column (zero-based)\n",
    "action.grid(column=1, row=1)\n",
    "\n",
    "# Changing our Label               # 3\n",
    "ttk.Label(win, text=\"Enter a name:\").grid(column=0, row=0) # 4\n",
    "\n",
    "# Adding a Textbox Entry widget    # 5\n",
    "name = tk.StringVar()              # 6\n",
    "nameEntered = ttk.Entry(win, width=12, textvariable=name) # 7\n",
    "nameEntered.grid(column=0, row=1)  # 8"
   ]
  },
  {
   "cell_type": "code",
   "execution_count": null,
   "metadata": {},
   "outputs": [],
   "source": [
    "import tkinter as tk\n",
    "\n",
    "master = tk.Tk()\n",
    "label = tk.Label(master, text = \"Label\")\n",
    "#entry = tk.Entry(master, text = \"Label\")\n",
    "\n",
    "master.mainloop()"
   ]
  },
  {
   "cell_type": "code",
   "execution_count": null,
   "metadata": {},
   "outputs": [],
   "source": [
    "from tkinter import *\n",
    "\n",
    "master = Tk()\n",
    "\n",
    "# Makes a label\n",
    "Label(master, text=\"First Name\").grid(row=0)\n",
    "Label(master, text=\"Last Name\").grid(row=1)\n",
    "\n",
    "# Makes an entry\n",
    "e1 = Entry(master)\n",
    "e2 = Entry(master)\n",
    "\n",
    "# Formats the entry\n",
    "e1.grid(row=0, column=1)\n",
    "e2.grid(row=1, column=1)\n",
    "\n",
    "s = e1.get()\n",
    "print(s)\n",
    "\n",
    "mainloop( )"
   ]
  },
  {
   "cell_type": "code",
   "execution_count": null,
   "metadata": {},
   "outputs": [],
   "source": [
    "from tkinter import *\n",
    "\n",
    "master = Tk()\n",
    "\n",
    "# Creates an entry\n",
    "e = Entry(master)\n",
    "e.pack()\n",
    "\n",
    "# focus_set() makes sure that the keyboard focus is on the text field when this is run\n",
    "e.focus_set()\n",
    "\n",
    "# Prints Entry\n",
    "def callback():\n",
    "    print (e.get())\n",
    "\n",
    "# Makes the \"get\" button\n",
    "# The Pack geometry manager packs widgets in rows or columns. \n",
    "# You can use options like fill, expand, and side to control this geometry manager.\n",
    "b = Button(master, text=\"get\", width=10, command=callback)\n",
    "b.pack()\n",
    "\n",
    "mainloop()"
   ]
  },
  {
   "cell_type": "code",
   "execution_count": 13,
   "metadata": {},
   "outputs": [
    {
     "name": "stdout",
     "output_type": "stream",
     "text": [
      "pressed '??'\n",
      "pressed 'Up'\n",
      "pressed 'Right'\n",
      "pressed 'Left'\n",
      "pressed 'Down'\n"
     ]
    }
   ],
   "source": [
    "from tkinter import *\n",
    "\n",
    "master = Tk()\n",
    "\n",
    "# Creates an entry\n",
    "e = Entry(master)\n",
    "e.pack()\n",
    "\n",
    "# focus_set() makes sure that the keyboard focus is on the text field when this is run\n",
    "e.focus_set()\n",
    "\n",
    "# Prints Entry\n",
    "def callback():\n",
    "    print (e.get())\n",
    "\n",
    "def key(event):\n",
    "    frame.focus_set()\n",
    "    print (\"pressed\", repr(event.keysym))\n",
    "    \n",
    "frame = Frame(e, width=100, height=100)\n",
    "frame.bind(\"<Enter>\", key)\n",
    "frame.bind(\"<Key>\", key)\n",
    "frame.pack()\n",
    "\n",
    "mainloop()"
   ]
  },
  {
   "cell_type": "code",
   "execution_count": 3,
   "metadata": {},
   "outputs": [
    {
     "ename": "NameError",
     "evalue": "name 'parent' is not defined",
     "output_type": "error",
     "traceback": [
      "\u001b[1;31m---------------------------------------------------------------------------\u001b[0m",
      "\u001b[1;31mNameError\u001b[0m                                 Traceback (most recent call last)",
      "\u001b[1;32m<ipython-input-3-fcd10e329755>\u001b[0m in \u001b[0;36m<module>\u001b[1;34m()\u001b[0m\n\u001b[0;32m     17\u001b[0m     \u001b[1;32mreturn\u001b[0m \u001b[0mentry\u001b[0m\u001b[1;33m\u001b[0m\u001b[0m\n\u001b[0;32m     18\u001b[0m \u001b[1;33m\u001b[0m\u001b[0m\n\u001b[1;32m---> 19\u001b[1;33m \u001b[0muser\u001b[0m \u001b[1;33m=\u001b[0m \u001b[0mmakeentry\u001b[0m\u001b[1;33m(\u001b[0m\u001b[0mparent\u001b[0m\u001b[1;33m,\u001b[0m \u001b[1;34m\"User name:\"\u001b[0m\u001b[1;33m,\u001b[0m \u001b[1;36m10\u001b[0m\u001b[1;33m)\u001b[0m\u001b[1;33m\u001b[0m\u001b[0m\n\u001b[0m\u001b[0;32m     20\u001b[0m \u001b[0mpassword\u001b[0m \u001b[1;33m=\u001b[0m \u001b[0mmakeentry\u001b[0m\u001b[1;33m(\u001b[0m\u001b[0mparent\u001b[0m\u001b[1;33m,\u001b[0m \u001b[1;34m\"Password:\"\u001b[0m\u001b[1;33m,\u001b[0m \u001b[1;36m10\u001b[0m\u001b[1;33m,\u001b[0m \u001b[0mshow\u001b[0m\u001b[1;33m=\u001b[0m\u001b[1;34m\"*\"\u001b[0m\u001b[1;33m)\u001b[0m\u001b[1;33m\u001b[0m\u001b[0m\n\u001b[0;32m     21\u001b[0m \u001b[0mcontent\u001b[0m \u001b[1;33m=\u001b[0m \u001b[0mStringVar\u001b[0m\u001b[1;33m(\u001b[0m\u001b[1;33m)\u001b[0m\u001b[1;33m\u001b[0m\u001b[0m\n",
      "\u001b[1;31mNameError\u001b[0m: name 'parent' is not defined"
     ]
    }
   ],
   "source": [
    "from tkinter import *\n",
    "\n",
    "master = Tk()\n",
    "\n",
    "e = Entry(master, width=50)\n",
    "e.pack()\n",
    "# e.focus_set()\n",
    "\n",
    "text = e.get()\n",
    "\n",
    "def makeentry(parent, caption, width=None, **options):\n",
    "    Label(parent, text=caption).pack(side=LEFT)\n",
    "    entry = Entry(parent, **options)\n",
    "    if width:\n",
    "        entry.config(width=width)\n",
    "    entry.pack(side=LEFT)\n",
    "    return entry\n",
    "\n",
    "user = makeentry(parent, \"User name:\", 10)\n",
    "password = makeentry(parent, \"Password:\", 10, show=\"*\")\n",
    "content = StringVar()\n",
    "entry = Entry(parent, text=caption, textvariable=content)\n",
    "\n",
    "text = content.get()\n",
    "content.set(text)\n",
    "\n",
    "mainloop()"
   ]
  }
 ],
 "metadata": {
  "kernelspec": {
   "display_name": "Python 3",
   "language": "python",
   "name": "python3"
  },
  "language_info": {
   "codemirror_mode": {
    "name": "ipython",
    "version": 3
   },
   "file_extension": ".py",
   "mimetype": "text/x-python",
   "name": "python",
   "nbconvert_exporter": "python",
   "pygments_lexer": "ipython3",
   "version": "3.6.4"
  }
 },
 "nbformat": 4,
 "nbformat_minor": 2
}
