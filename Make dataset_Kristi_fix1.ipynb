{
 "cells": [
  {
   "cell_type": "markdown",
   "metadata": {},
   "source": [
    "Here we will attempt making our own dataset provided images belonging to different classes. \n",
    "I have shared a folder on G drive with 25 images of birds and  25 images of flowers. \n",
    "https://drive.google.com/drive/folders/1-0vNDAaWsFgDe4gYScG2uETnTtFvP4pS?usp=sharing\n",
    "The goal of this exercise is to read images in the folders and divide them into train and test sets. \n",
    "\n",
    "We will divide the images as follows\n",
    "- 80% -> train dataset\n",
    "- 20% -> test dataset\n",
    "\n",
    "##### Current Folder strucure\n",
    "- Images\n",
    "    - Bird\n",
    "    - Flower\n",
    "\n",
    "##### New folder structure should be something like this\n",
    "- train\n",
    "    - bird (20 images)\n",
    "    - flower (20 images)\n",
    "- test\n",
    "    - bird (5 images)\n",
    "    - flower (5 images)\n",
    "    \n",
    "It is  not a good idea to hard code names of the classes. Try to make the code as generic as possible so that you can reuse this template in the future.\n",
    "\n",
    "You may find the following libraries useful\n",
    "- os\n",
    "- PIL\n",
    "- glob\n",
    "- shutil -  copyfile function\n"
   ]
  },
  {
   "cell_type": "code",
   "execution_count": 2,
   "metadata": {
    "scrolled": false
   },
   "outputs": [
    {
     "name": "stdout",
     "output_type": "stream",
     "text": [
      "C:\\Users\\ktnng\\Documents\\SCU\\2018 Research\n",
      "C:\\Users\\ktnng\\Documents\\SCU\\2018 Research\\training data\n"
     ]
    }
   ],
   "source": [
    "import os\n",
    "from PIL import Image\n",
    "import random"
   ]
  },
  {
   "cell_type": "code",
   "execution_count": null,
   "metadata": {},
   "outputs": [],
   "source": [
    "TRAIN_PER = 80 #set training image ratio\n",
    "TEST_PER = 10 # set test image ratio\n",
    "VAL_PER = 10 #set validation image ratio\n",
    "\n",
    "#set output size\n",
    "#We will use Alexnet image sizes\n",
    "out_width = 224\n",
    "out_height = 224\n",
    "size = out_width, out_height"
   ]
  },
  {
   "cell_type": "code",
   "execution_count": 6,
   "metadata": {},
   "outputs": [
    {
     "name": "stdout",
     "output_type": "stream",
     "text": [
      "C:\\Users\\ktnng\\Documents\\SCU\\2018 Research\\training data\n"
     ]
    }
   ],
   "source": [
    "# Input Directory Path\n",
    "input_path = os.path.abspath('.')\n",
    "#print(input_path)\n",
    "\n",
    "# Output Directory Path  \n",
    "output_path = input_path+'\\\\training data'\n",
    "if not os.path.isdir(output_path):\n",
    "    os.makedirs(output_path) \n",
    "#print(output_path)"
   ]
  },
  {
   "cell_type": "code",
   "execution_count": null,
   "metadata": {},
   "outputs": [],
   "source": [
    "# List of classes\n",
    "classes = ['Bird', 'Flower']"
   ]
  },
  {
   "cell_type": "code",
   "execution_count": 8,
   "metadata": {},
   "outputs": [
    {
     "name": "stdout",
     "output_type": "stream",
     "text": [
      "Bird done!\n",
      "Flower done!\n"
     ]
    }
   ],
   "source": [
    "for class_ in classes: \n",
    "    # Alternatively:\n",
    "        # for x in classes:\n",
    "    \n",
    "    list = os.listdir(input_path+\"\\\\\"+class_) #Makes a list of the image paths\n",
    "    # Alternatively:\n",
    "        #list = []\n",
    "        #for img in os.listdir(input_path+\"\\\\\"+x):\n",
    "            #list.append(input_path+\"\\\\\"+x+\"\\\\\"+img) \n",
    "    \n",
    "    #print(list)\n",
    "    random.shuffle(list) #shuffles data\n",
    "    \n",
    "    # Calculates amount of images for training, test, validation\n",
    "    total_images = len(list)\n",
    "    train_number = int(TRAIN_PER/100 * total_images)\n",
    "    #print(train_number)\n",
    "    test_number = int(TEST_PER/100 * total_images)\n",
    "    #print(test_number)\n",
    "    val_number = int(VAL_PER/100 * total_images)\n",
    "    #print(val_number)\n",
    "\n",
    "    train_counter = 0\n",
    "    test_counter = 0\n",
    "    val_counter = 0\n",
    "    \n",
    "    for i in (list): \n",
    "        #print(i) # i is the pointer that is the path name\n",
    "        \n",
    "        # Open images using path names\n",
    "        img = Image.open(input_path+\"\\\\\"+class_+\"\\\\\"+i)\n",
    "        \n",
    "        #img.show() # Shows the image\n",
    "\n",
    "        img = img.resize(size,Image.LANCZOS)  # resize images\n",
    "        dst = i.split('\\\\')[-1] # Splits path name based on backsplashes, and takes out the last term\n",
    "        #print(dst)\n",
    "\n",
    "        if not os.path.isdir(output_path+'\\\\training\\\\'+class_):\n",
    "            os.makedirs(output_path+'\\\\training\\\\'+class_)\n",
    "\n",
    "        if not os.path.isdir(output_path+'\\\\test\\\\'+class_):\n",
    "            os.makedirs(output_path+'\\\\test\\\\'+class_)\n",
    "            \n",
    "        if not os.path.isdir(output_path+'\\\\val\\\\'+class_):\n",
    "            os.makedirs(output_path+'\\\\val\\\\'+class_)\n",
    "\n",
    "        if train_counter < train_number:\n",
    "            img.save(output_path+\"\\\\training\\\\\"+class_+\"\\\\\"+dst) # save output in training\n",
    "            train_counter+=1\n",
    "            #print(train_counter)\n",
    "\n",
    "        if test_counter < test_number:\n",
    "            img.save(output_path+\"\\\\test\\\\\"+class_+\"\\\\\"+dst) # save output in test\n",
    "            test_counter+=1\n",
    "            #print(train_counter)\n",
    "            \n",
    "        if val_counter < val_number:\n",
    "            img.save(output_path+\"\\\\val\\\\\"+class_+\"\\\\\"+dst)\n",
    "            val_counter+=1\n",
    "            #print(val_counter)\n",
    "    \n",
    "    print(class_,\"done!\")\n"
   ]
  },
  {
   "cell_type": "code",
   "execution_count": null,
   "metadata": {},
   "outputs": [],
   "source": []
  }
 ],
 "metadata": {
  "kernelspec": {
   "display_name": "Python 3",
   "language": "python",
   "name": "python3"
  },
  "language_info": {
   "codemirror_mode": {
    "name": "ipython",
    "version": 3
   },
   "file_extension": ".py",
   "mimetype": "text/x-python",
   "name": "python",
   "nbconvert_exporter": "python",
   "pygments_lexer": "ipython3",
   "version": "3.6.4"
  }
 },
 "nbformat": 4,
 "nbformat_minor": 2
}
