{
 "cells": [
  {
   "cell_type": "markdown",
   "metadata": {},
   "source": [
    "#### MNIST training with different hidden layer size\n",
    "\n",
    "In this exercise we will see how the hidden layer size affects on the test accuracy and test loss of a MNIST  Deep Neural Network classifier.\n",
    "\n",
    "Use matplotlib to plot the test accuracy vs sizes and test loss vs sizes\n",
    "\n",
    "You should be able to complete this using the MNIST classifier we built in the last meeting."
   ]
  },
  {
   "cell_type": "code",
   "execution_count": 1,
   "metadata": {},
   "outputs": [
    {
     "name": "stderr",
     "output_type": "stream",
     "text": [
      "C:\\Users\\ktnng\\Anaconda3\\lib\\site-packages\\h5py\\__init__.py:36: FutureWarning: Conversion of the second argument of issubdtype from `float` to `np.floating` is deprecated. In future, it will be treated as `np.float64 == np.dtype(float).type`.\n",
      "  from ._conv import register_converters as _register_converters\n",
      "Using TensorFlow backend.\n"
     ]
    }
   ],
   "source": [
    "# import functions:\n",
    "import matplotlib.pyplot as plt\n",
    "\n",
    "import keras\n",
    "from keras.layers import Dense, Flatten, Reshape\n",
    "from keras.models import Model\n",
    "from keras.models import Sequential\n",
    "from keras.datasets import fashion_mnist\n",
    "import matplotlib.pyplot as plt\n",
    "from keras.utils import to_categorical"
   ]
  },
  {
   "cell_type": "code",
   "execution_count": 6,
   "metadata": {},
   "outputs": [],
   "source": [
    "# write a function to construct model with hidden layer defined by the size function\n",
    "def make_model(size):\n",
    "    model = Sequential()\n",
    "    model.add(Reshape((784,), input_shape=(28,28)))\n",
    "    #Add code here:\n",
    "    model.add(Dense(size, activation = 'relu'))\n",
    "    model.add(Dense(10, activation = 'softmax'))\n",
    "    return model"
   ]
  },
  {
   "cell_type": "code",
   "execution_count": 3,
   "metadata": {},
   "outputs": [],
   "source": [
    "sizes = [256,512,784,1024] # create a list of sizes you want to experiment with\n",
    "test_loss = [] # create array to store  test loss \n",
    "test_accuracy = [] # create array to store test accuracy"
   ]
  },
  {
   "cell_type": "code",
   "execution_count": 4,
   "metadata": {},
   "outputs": [
    {
     "name": "stdout",
     "output_type": "stream",
     "text": [
      "Downloading data from http://fashion-mnist.s3-website.eu-central-1.amazonaws.com/train-labels-idx1-ubyte.gz\n",
      "32768/29515 [=================================] - 2s 50us/step\n",
      "Downloading data from http://fashion-mnist.s3-website.eu-central-1.amazonaws.com/train-images-idx3-ubyte.gz\n",
      "26427392/26421880 [==============================] - 16s 1us/step\n",
      "Downloading data from http://fashion-mnist.s3-website.eu-central-1.amazonaws.com/t10k-labels-idx1-ubyte.gz\n",
      "8192/5148 [===============================================] - 0s 48us/step\n",
      "Downloading data from http://fashion-mnist.s3-website.eu-central-1.amazonaws.com/t10k-images-idx3-ubyte.gz\n",
      "4423680/4422102 [==============================] - 15s 3us/step\n"
     ]
    }
   ],
   "source": [
    "# load MNIST data:\n",
    "(x_train, y_train), (x_test,y_test) = fashion_mnist.load_data()\n",
    "#x_train = x_train.reshape(x_train.shape[0],28,28,1)\n",
    "#x_test = x_test.reshape(x_test.shape[0],28,28,1)\n",
    "\n",
    "# convert the range of values of train and test images from 0 to 255 to 0 to 1:\n",
    "x_train = x_train.astype('float64')/255\n",
    "x_test = x_test.astype('float64')/255\n",
    "\n",
    "# use to_categorical to convert integer labels to logits:\n",
    "y_train = to_categorical(y_train)\n",
    "y_test = to_categorical(y_test)"
   ]
  },
  {
   "cell_type": "code",
   "execution_count": 7,
   "metadata": {},
   "outputs": [
    {
     "name": "stdout",
     "output_type": "stream",
     "text": [
      "Size:  256\n",
      "Epoch 1/10\n",
      "60000/60000 [==============================] - 6s 94us/step - loss: 0.8488 - acc: 0.7375\n",
      "Epoch 2/10\n",
      "60000/60000 [==============================] - 5s 89us/step - loss: 0.5686 - acc: 0.8130\n",
      "Epoch 3/10\n",
      "60000/60000 [==============================] - 5s 88us/step - loss: 0.5128 - acc: 0.8279\n",
      "Epoch 4/10\n",
      "60000/60000 [==============================] - 5s 89us/step - loss: 0.4824 - acc: 0.8353\n",
      "Epoch 5/10\n",
      "60000/60000 [==============================] - 7s 122us/step - loss: 0.4632 - acc: 0.8415\n",
      "Epoch 6/10\n",
      "60000/60000 [==============================] - 8s 126us/step - loss: 0.4479 - acc: 0.8467\n",
      "Epoch 7/10\n",
      "60000/60000 [==============================] - 8s 127us/step - loss: 0.4356 - acc: 0.8508\n",
      "Epoch 8/10\n",
      "60000/60000 [==============================] - 8s 131us/step - loss: 0.4259 - acc: 0.8540\n",
      "Epoch 9/10\n",
      "60000/60000 [==============================] - 8s 129us/step - loss: 0.4169 - acc: 0.8563\n",
      "Epoch 10/10\n",
      "60000/60000 [==============================] - 8s 129us/step - loss: 0.4088 - acc: 0.8607\n",
      "10000/10000 [==============================] - 1s 80us/step\n",
      "Test Accuracy  0.839\n",
      "Test Loss  0.449413339138031\n",
      "Size:  512\n",
      "Epoch 1/10\n",
      "60000/60000 [==============================] - 16s 273us/step - loss: 0.8382 - acc: 0.7395\n",
      "Epoch 2/10\n",
      "60000/60000 [==============================] - 16s 263us/step - loss: 0.5628 - acc: 0.8154\n",
      "Epoch 3/10\n",
      "60000/60000 [==============================] - 16s 266us/step - loss: 0.5069 - acc: 0.8296\n",
      "Epoch 4/10\n",
      "60000/60000 [==============================] - 17s 277us/step - loss: 0.4769 - acc: 0.8391\n",
      "Epoch 5/10\n",
      "60000/60000 [==============================] - 16s 265us/step - loss: 0.4571 - acc: 0.8449\n",
      "Epoch 6/10\n",
      "60000/60000 [==============================] - 16s 262us/step - loss: 0.4414 - acc: 0.8490\n",
      "Epoch 7/10\n",
      "60000/60000 [==============================] - 16s 273us/step - loss: 0.4302 - acc: 0.8521\n",
      "Epoch 8/10\n",
      "60000/60000 [==============================] - 16s 275us/step - loss: 0.4204 - acc: 0.8559\n",
      "Epoch 9/10\n",
      "60000/60000 [==============================] - 17s 284us/step - loss: 0.4113 - acc: 0.8590\n",
      "Epoch 10/10\n",
      "60000/60000 [==============================] - 17s 287us/step - loss: 0.4037 - acc: 0.8602\n",
      "10000/10000 [==============================] - 2s 181us/step\n",
      "Test Accuracy  0.8428\n",
      "Test Loss  0.44608883957862855\n",
      "Size:  784\n",
      "Epoch 1/10\n",
      "60000/60000 [==============================] - 24s 401us/step - loss: 0.8246 - acc: 0.7489\n",
      "Epoch 2/10\n",
      "60000/60000 [==============================] - 23s 391us/step - loss: 0.5564 - acc: 0.8186\n",
      "Epoch 3/10\n",
      "60000/60000 [==============================] - 24s 398us/step - loss: 0.5016 - acc: 0.8334\n",
      "Epoch 4/10\n",
      "60000/60000 [==============================] - 23s 391us/step - loss: 0.4716 - acc: 0.8408\n",
      "Epoch 5/10\n",
      "60000/60000 [==============================] - 23s 386us/step - loss: 0.4510 - acc: 0.8469\n",
      "Epoch 6/10\n",
      "60000/60000 [==============================] - 23s 383us/step - loss: 0.4372 - acc: 0.8515\n",
      "Epoch 7/10\n",
      "60000/60000 [==============================] - 23s 389us/step - loss: 0.4246 - acc: 0.8553\n",
      "Epoch 8/10\n",
      "60000/60000 [==============================] - 23s 379us/step - loss: 0.4147 - acc: 0.8575\n",
      "Epoch 9/10\n",
      "60000/60000 [==============================] - 24s 392us/step - loss: 0.4061 - acc: 0.8603\n",
      "Epoch 10/10\n",
      "60000/60000 [==============================] - 23s 388us/step - loss: 0.3981 - acc: 0.8638\n",
      "10000/10000 [==============================] - 2s 194us/step\n",
      "Test Accuracy  0.842\n",
      "Test Loss  0.44445403804779055\n",
      "Size:  1024\n",
      "Epoch 1/10\n",
      "60000/60000 [==============================] - 31s 513us/step - loss: 0.8128 - acc: 0.7498\n",
      "Epoch 2/10\n",
      "60000/60000 [==============================] - 33s 544us/step - loss: 0.5506 - acc: 0.8201\n",
      "Epoch 3/10\n",
      "60000/60000 [==============================] - 29s 481us/step - loss: 0.4971 - acc: 0.8338\n",
      "Epoch 4/10\n",
      "60000/60000 [==============================] - 24s 400us/step - loss: 0.4677 - acc: 0.8417\n",
      "Epoch 5/10\n",
      "60000/60000 [==============================] - 23s 389us/step - loss: 0.4483 - acc: 0.8480\n",
      "Epoch 6/10\n",
      "60000/60000 [==============================] - 24s 393us/step - loss: 0.4339 - acc: 0.8512\n",
      "Epoch 7/10\n",
      "60000/60000 [==============================] - 24s 407us/step - loss: 0.4224 - acc: 0.8545\n",
      "Epoch 8/10\n",
      "60000/60000 [==============================] - 23s 389us/step - loss: 0.4113 - acc: 0.85931s - loss: 0.\n",
      "Epoch 9/10\n",
      "60000/60000 [==============================] - 22s 365us/step - loss: 0.4034 - acc: 0.8610\n",
      "Epoch 10/10\n",
      "60000/60000 [==============================] - 22s 360us/step - loss: 0.3956 - acc: 0.8631\n",
      "10000/10000 [==============================] - 2s 228us/step\n",
      "Test Accuracy  0.8449\n",
      "Test Loss  0.4366266275644302\n"
     ]
    }
   ],
   "source": [
    "for size in sizes:\n",
    "    print(\"Size: \", size)\n",
    "    my_model = make_model(size)\n",
    "    # compile model  with optimizer='sgd' loss='categorical_crossentropy'  metrics=['accuracy']):\n",
    "    my_model.compile(optimizer='sgd', loss='categorical_crossentropy',metrics=['accuracy'])\n",
    "    # fit model with  epochs=10, batch_size=64:\n",
    "    history = my_model.fit(x_train, y_train, epochs=10, shuffle='batch',batch_size=64)\n",
    "    # evaluate model to get test loss and test accuracy:\n",
    "    t_loss, t_accuracy = my_model.evaluate(x_test,y_test)\n",
    "    print(\"Test Accuracy \", t_accuracy)\n",
    "    print(\"Test Loss \",t_loss)\n",
    "    # append the test loss and test accuracy to the arrays we created earlier:\n",
    "    test_loss.append(t_loss)\n",
    "    test_accuracy.append(t_accuracy)"
   ]
  },
  {
   "cell_type": "code",
   "execution_count": 8,
   "metadata": {},
   "outputs": [
    {
     "data": {
      "text/plain": [
       "[<matplotlib.lines.Line2D at 0x25830b38c18>]"
      ]
     },
     "execution_count": 8,
     "metadata": {},
     "output_type": "execute_result"
    },
    {
     "data": {
      "image/png": "[encoded data removed]",
      "text/plain": [
       "<matplotlib.figure.Figure at 0x25830b386d8>"
      ]
     },
     "metadata": {},
     "output_type": "display_data"
    }
   ],
   "source": [
    "plt.figure()\n",
    "plt.xscale('log', basex=2)\n",
    "plt.ylabel('Test Accuracy')\n",
    "plt.xlabel('Hidden layer size')\n",
    "plt.plot(sizes, test_accuracy, 'ro')"
   ]
  },
  {
   "cell_type": "code",
   "execution_count": 9,
   "metadata": {},
   "outputs": [
    {
     "data": {
      "text/plain": [
       "[<matplotlib.lines.Line2D at 0x258324fef28>]"
      ]
     },
     "execution_count": 9,
     "metadata": {},
     "output_type": "execute_result"
    },
    {
     "data": {
      "image/png": "[encoded data removed]",
      "text/plain": [
       "<matplotlib.figure.Figure at 0x25832dcccf8>"
      ]
     },
     "metadata": {},
     "output_type": "display_data"
    }
   ],
   "source": [
    "plt.figure()\n",
    "plt.xscale('log', basex=2)\n",
    "plt.ylabel('Test Loss')\n",
    "plt.xlabel('Hidden layer size')\n",
    "plt.plot(sizes, test_loss, 'ro')"
   ]
  },
  {
   "cell_type": "code",
   "execution_count": null,
   "metadata": {},
   "outputs": [],
   "source": []
  }
 ],
 "metadata": {
  "kernelspec": {
   "display_name": "Python 3",
   "language": "python",
   "name": "python3"
  },
  "language_info": {
   "codemirror_mode": {
    "name": "ipython",
    "version": 3
   },
   "file_extension": ".py",
   "mimetype": "text/x-python",
   "name": "python",
   "nbconvert_exporter": "python",
   "pygments_lexer": "ipython3",
   "version": "3.6.4"
  }
 },
 "nbformat": 4,
 "nbformat_minor": 2
}
