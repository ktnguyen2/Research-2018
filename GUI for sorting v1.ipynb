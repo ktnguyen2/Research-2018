{
 "cells": [
  {
   "cell_type": "markdown",
   "metadata": {},
   "source": [
    "GUI for sorting images into classes. Useful for CNNs. \n",
    "\n",
    "* Click \"get\" to close window and access next picture\n",
    "* Cannot move back and forth between images"
   ]
  },
  {
   "cell_type": "code",
   "execution_count": 1,
   "metadata": {},
   "outputs": [],
   "source": [
    "from tkinter import *  \n",
    "import os\n",
    "from PIL import ImageTk,Image"
   ]
  },
  {
   "cell_type": "code",
   "execution_count": 2,
   "metadata": {},
   "outputs": [],
   "source": [
    "#path = 'Users\\ktnng\\Documents\\SCU\\\\2018 Research\\GUI photos'\n",
    "#path = str(path).replace('\\\\','/')\n",
    "#path = \"C:/\" + path\n",
    "#print(path)\n",
    "\n",
    "path = 'C:/Users/ktnng/Documents/SCU/2018 Research/Test'"
   ]
  },
  {
   "cell_type": "code",
   "execution_count": 3,
   "metadata": {},
   "outputs": [],
   "source": [
    "in_width = 3000\n",
    "in_height = 2000\n",
    "scale = 0.1\n",
    "out_width = int(in_width * scale)\n",
    "out_height = int(in_height * scale)\n",
    "\n",
    "#out_width =\n",
    "#out_height =\n",
    "\n",
    "size = out_width, out_height"
   ]
  },
  {
   "cell_type": "code",
   "execution_count": 6,
   "metadata": {},
   "outputs": [],
   "source": [
    "# Saves image in labeled folder\n",
    "def callback(x,classes,root):\n",
    "    if not os.path.isdir(path+'/'+classes):\n",
    "        os.makedirs(path+'/'+classes)\n",
    "        img.save(path+'/'+classes+'/'+x)\n",
    "    root.destroy()"
   ]
  },
  {
   "cell_type": "code",
   "execution_count": 7,
   "metadata": {},
   "outputs": [
    {
     "name": "stdout",
     "output_type": "stream",
     "text": [
      "You've already sorted this picture\n",
      "Done!\n"
     ]
    }
   ],
   "source": [
    "list = os.listdir(path)\n",
    "\n",
    "counter = 0\n",
    "total_images = len(list)\n",
    "\n",
    "for x in list:    \n",
    "    root = Tk()  \n",
    "    \n",
    "    # Opens image\n",
    "    try:\n",
    "        img = Image.open(path+'/'+x)\n",
    "    except PermissionError:\n",
    "        print(\"You've already sorted this picture\")\n",
    "    img = img.resize(size)\n",
    "    \n",
    "    # Shows image\n",
    "    img_show = ImageTk.PhotoImage(img)  \n",
    "    canvas = Canvas(root, width = out_width, height = out_height)  \n",
    "    canvas.pack()\n",
    "    canvas.create_image(0, 0, anchor=NW, image=img_show)\n",
    "    \n",
    "    # Creates entry. Enter the class.\n",
    "    e = Entry(root)\n",
    "    e.pack()\n",
    "    e.focus_set()        \n",
    "    \n",
    "    # Creates \"get\" button. Click to make directory.\n",
    "    b = Button(root, text=\"get\", width=10, command=lambda: callback(x,e.get(),root))\n",
    "    b.pack()\n",
    "    # call lambda because it acts as a link between Tkinter and callback\n",
    "    # Without lambda, Python will call the callback function before creating the widget, \n",
    "    # and pass the function’s return value to Tkinter. \n",
    "    # Tkinter then attempts to convert the return value to a string, \n",
    "    # and tells Tk to call a function with that name when the button is activated.\n",
    "    \n",
    "    counter+=1\n",
    "    root.mainloop()\n",
    "\n",
    "if counter == total_images:\n",
    "    print(\"Done!\")\n",
    "if counter < total_images:\n",
    "    print(\"Incomplete\")\n",
    "if counter > total_images:\n",
    "    print(\"Something weird happened\")"
   ]
  },
  {
   "cell_type": "code",
   "execution_count": null,
   "metadata": {},
   "outputs": [],
   "source": []
  }
 ],
 "metadata": {
  "kernelspec": {
   "display_name": "Python 3",
   "language": "python",
   "name": "python3"
  },
  "language_info": {
   "codemirror_mode": {
    "name": "ipython",
    "version": 3
   },
   "file_extension": ".py",
   "mimetype": "text/x-python",
   "name": "python",
   "nbconvert_exporter": "python",
   "pygments_lexer": "ipython3",
   "version": "3.6.4"
  }
 },
 "nbformat": 4,
 "nbformat_minor": 2
}
