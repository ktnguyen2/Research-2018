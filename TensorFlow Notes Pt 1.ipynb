{
 "cells": [
  {
   "cell_type": "markdown",
   "metadata": {},
   "source": [
    "__TensorFlow__\n",
    "- Open source library for numerical computation and machine learning.\n",
    "- Bundles machine learning and deep learning (aka neural networking) models and algorithms\n",
    "- Uses Python to provide a convenient front-end API\n",
    "- Can train and run deep neural networks\n",
    "- Allows developers to create dataflow graphs, which are structures that describe how data moves through a graph\n",
    "    - Each node in the graph represents a mathematical operation and each connection or edge between nodes is an array/tensor"
   ]
  },
  {
   "cell_type": "markdown",
   "metadata": {},
   "source": [
    "Build a Graph. This builds a graph with constants that are rank 1 tensors."
   ]
  },
  {
   "cell_type": "code",
   "execution_count": 4,
   "metadata": {},
   "outputs": [
    {
     "data": {
      "text/plain": [
       "12"
      ]
     },
     "execution_count": 4,
     "metadata": {},
     "output_type": "execute_result"
    }
   ],
   "source": [
    "import tensorflow as tf\n",
    "a = tf.constant(10) # tensor\n",
    "b = tf.constant(2) # tensor\n",
    "c = tf.add(a,b) # node. Adds A and B together\n",
    "\n",
    "session = tf.Session() # runs the graph\n",
    "session.run(c) # runs the graph and retrieves c"
   ]
  },
  {
   "cell_type": "markdown",
   "metadata": {},
   "source": [
    "The goal is to find an equation for a given set of data that best fits the data:\n",
    "\n",
    "y = 0.1x + 0.3 + noise #correct answer\n",
    "y = wx + b #start with this assumption"
   ]
  },
  {
   "cell_type": "markdown",
   "metadata": {},
   "source": [
    "Procedure:\n",
    "1. Inference (given a value, what is y?)\n",
    "2. Loss (how bad was our guess?\n",
    "3. Optimize (Update our model to make it better)"
   ]
  },
  {
   "cell_type": "code",
   "execution_count": 26,
   "metadata": {},
   "outputs": [
    {
     "ename": "SyntaxError",
     "evalue": "invalid syntax (<ipython-input-26-3f5cbcafec32>, line 19)",
     "output_type": "error",
     "traceback": [
      "\u001b[1;36m  File \u001b[1;32m\"<ipython-input-26-3f5cbcafec32>\"\u001b[1;36m, line \u001b[1;32m19\u001b[0m\n\u001b[1;33m    b = tf.Variable(tf.random_normal([1])\u001b[0m\n\u001b[1;37m    ^\u001b[0m\n\u001b[1;31mSyntaxError\u001b[0m\u001b[1;31m:\u001b[0m invalid syntax\n"
     ]
    }
   ],
   "source": [
    "# 1. Inference\n",
    "\n",
    "import tensorflow as tf\n",
    "\n",
    "x = tf.placeholder(tf.float32) \n",
    "# tf.Placeholder is an imput port where data is fed. \n",
    "# It is an input to the graph and must be a specified data type. \n",
    "# It is assigned by using feed_dict dictionary input. \n",
    "# If there is a placeholder, then there has to be an input\n",
    "\n",
    "w = tf.Variable(tf.random_normal([1]) \n",
    "# tf.Variable is the variable that we are going to learn\n",
    "# Initialized with random gaussian values, hence \"normal\"\n",
    "# \"1\" indicates the rank of the variable, so here it is rank 1\n",
    "# Internal to the graph\n",
    "# Represents tensors between operations\n",
    "# Weights and biases initialized\n",
    "\n",
    "b = tf.Variable(tf.random_normal([1])\n",
    "\n",
    "y = w * x + b\n",
    "\n",
    "# init_op = tf.global_variables_initializer()\n",
    "# tf.global_variables_initializer initializes all the variables\n",
    "\n",
    "# session = tf.Session()\n",
    "# session.run(init_op)\n",
    "\n",
    "x_in = 12\n",
    "# Trying to feed only one value\n",
    "\n",
    "with tf.Session() as sess:\n",
    "    sess.run(tf.global_variables_initializer())\n",
    "    print (sess.run(y, feed_dict = {x:x_in}))\n",
    "    # Fetch y, feed x"
   ]
  },
  {
   "cell_type": "markdown",
   "metadata": {},
   "source": [
    "We are going to create random data to use as our dataset"
   ]
  },
  {
   "cell_type": "code",
   "execution_count": null,
   "metadata": {},
   "outputs": [],
   "source": [
    "def make_noisy_data(w = PERSQFT, b = BASE, n = ITEMS):\n",
    "    sqft = np.random.rand(n).astype(np.float32) * 6\n",
    "    # multiply by 6 for max sq ft of 6000\n",
    "    noise = np.random.normal(scale = 0.08, size = len(sqft))\n",
    "    price = w * sqft + b + nosie\n",
    "    return sqft, price"
   ]
  },
  {
   "cell_type": "code",
   "execution_count": 27,
   "metadata": {},
   "outputs": [
    {
     "ename": "NameError",
     "evalue": "name 'y' is not defined",
     "output_type": "error",
     "traceback": [
      "\u001b[1;31m---------------------------------------------------------------------------\u001b[0m",
      "\u001b[1;31mNameError\u001b[0m                                 Traceback (most recent call last)",
      "\u001b[1;32m<ipython-input-27-f409429cd940>\u001b[0m in \u001b[0;36m<module>\u001b[1;34m()\u001b[0m\n\u001b[0;32m      6\u001b[0m \u001b[1;31m# The common measure of loss is squared error\u001b[0m\u001b[1;33m\u001b[0m\u001b[1;33m\u001b[0m\u001b[0m\n\u001b[0;32m      7\u001b[0m \u001b[1;33m\u001b[0m\u001b[0m\n\u001b[1;32m----> 8\u001b[1;33m \u001b[0mloss\u001b[0m \u001b[1;33m=\u001b[0m \u001b[0mtf\u001b[0m\u001b[1;33m.\u001b[0m\u001b[0mreduce_mean\u001b[0m\u001b[1;33m(\u001b[0m\u001b[0mtf\u001b[0m\u001b[1;33m.\u001b[0m\u001b[0msquare\u001b[0m\u001b[1;33m(\u001b[0m\u001b[0my\u001b[0m\u001b[1;33m-\u001b[0m\u001b[0my_\u001b[0m\u001b[1;33m)\u001b[0m\u001b[1;33m)\u001b[0m\u001b[1;33m\u001b[0m\u001b[0m\n\u001b[0m",
      "\u001b[1;31mNameError\u001b[0m: name 'y' is not defined"
     ]
    }
   ],
   "source": [
    "# 2. Loss\n",
    "\n",
    "# loss = (y-y_)**2, where y_ is expected value\n",
    "# Variables are randomly initializes\n",
    "# Early runs will have errors\n",
    "# The common measure of loss is squared error\n",
    "\n",
    "loss = tf.reduce_mean(tf.square(y-y_))"
   ]
  },
  {
   "cell_type": "code",
   "execution_count": 28,
   "metadata": {},
   "outputs": [
    {
     "ename": "NameError",
     "evalue": "name 'loss' is not defined",
     "output_type": "error",
     "traceback": [
      "\u001b[1;31m---------------------------------------------------------------------------\u001b[0m",
      "\u001b[1;31mNameError\u001b[0m                                 Traceback (most recent call last)",
      "\u001b[1;32m<ipython-input-28-fa10edeaa0fe>\u001b[0m in \u001b[0;36m<module>\u001b[1;34m()\u001b[0m\n\u001b[0;32m      7\u001b[0m \u001b[1;31m# You do not want the learning rate to be too large or too small\u001b[0m\u001b[1;33m\u001b[0m\u001b[1;33m\u001b[0m\u001b[0m\n\u001b[0;32m      8\u001b[0m \u001b[1;31m# GradientDescent is the most basic optimizer\u001b[0m\u001b[1;33m\u001b[0m\u001b[1;33m\u001b[0m\u001b[0m\n\u001b[1;32m----> 9\u001b[1;33m \u001b[0mtrain\u001b[0m \u001b[1;33m=\u001b[0m \u001b[0moptimizer\u001b[0m\u001b[1;33m.\u001b[0m\u001b[0mminimize\u001b[0m\u001b[1;33m(\u001b[0m\u001b[0mloss\u001b[0m\u001b[1;33m)\u001b[0m\u001b[1;33m\u001b[0m\u001b[0m\n\u001b[0m",
      "\u001b[1;31mNameError\u001b[0m: name 'loss' is not defined"
     ]
    }
   ],
   "source": [
    "# 3. Optimizer\n",
    "\n",
    "# The optimizer adjusts weights in the appropriate directionvso that our curent guess gets better\n",
    "# TensorFlow finds the derivative automatically \n",
    "optimizer = tf.train.GradientDescentOptimizer(0.5)\n",
    "# 0.5 is the learning rate\n",
    "# You do not want the learning rate to be too large or too small\n",
    "# GradientDescent is the most basic optimizer\n",
    "train = optimizer.minimize(loss)"
   ]
  },
  {
   "cell_type": "code",
   "execution_count": 31,
   "metadata": {},
   "outputs": [
    {
     "name": "stdout",
     "output_type": "stream",
     "text": [
      "step= 0 w = [-2.9045494] b = [-2.156946]\n",
      "step= 20 w = [-22650.775] b = [-5666.903]\n",
      "step= 40 w = [-1.3865136e+08] b = [-34686624.]\n",
      "step= 60 w = [-8.487021e+11] b = [-2.1232104e+11]\n",
      "step= 80 w = [-5.1950045e+15] b = [-1.299642e+15]\n",
      "step= 100 w = [-3.1799222e+19] b = [-7.95526e+18]\n",
      "step= 120 w = [-1.9464687e+23] b = [-4.869511e+22]\n",
      "step= 140 w = [-1.1914569e+27] b = [-2.9806869e+26]\n",
      "step= 160 w = [-7.293049e+30] b = [-1.8245127e+30]\n",
      "step= 180 w = [-4.464162e+34] b = [-1.1168061e+34]\n",
      "step= 200 w = [nan] b = [nan]\n",
      "step= 220 w = [nan] b = [nan]\n",
      "step= 240 w = [nan] b = [nan]\n",
      "step= 260 w = [nan] b = [nan]\n",
      "step= 280 w = [nan] b = [nan]\n",
      "step= 300 w = [nan] b = [nan]\n",
      "step= 320 w = [nan] b = [nan]\n",
      "step= 340 w = [nan] b = [nan]\n",
      "step= 360 w = [nan] b = [nan]\n",
      "step= 380 w = [nan] b = [nan]\n",
      "step= 400 w = [nan] b = [nan]\n",
      "step= 420 w = [nan] b = [nan]\n",
      "step= 440 w = [nan] b = [nan]\n",
      "step= 460 w = [nan] b = [nan]\n",
      "step= 480 w = [nan] b = [nan]\n",
      "step= 500 w = [nan] b = [nan]\n",
      "step= 520 w = [nan] b = [nan]\n",
      "step= 540 w = [nan] b = [nan]\n",
      "step= 560 w = [nan] b = [nan]\n",
      "step= 580 w = [nan] b = [nan]\n",
      "step= 600 w = [nan] b = [nan]\n",
      "step= 620 w = [nan] b = [nan]\n",
      "step= 640 w = [nan] b = [nan]\n",
      "step= 660 w = [nan] b = [nan]\n",
      "step= 680 w = [nan] b = [nan]\n",
      "step= 700 w = [nan] b = [nan]\n",
      "step= 720 w = [nan] b = [nan]\n",
      "step= 740 w = [nan] b = [nan]\n",
      "step= 760 w = [nan] b = [nan]\n",
      "step= 780 w = [nan] b = [nan]\n",
      "step= 800 w = [nan] b = [nan]\n",
      "step= 820 w = [nan] b = [nan]\n",
      "step= 840 w = [nan] b = [nan]\n",
      "step= 860 w = [nan] b = [nan]\n",
      "step= 880 w = [nan] b = [nan]\n",
      "step= 900 w = [nan] b = [nan]\n",
      "step= 920 w = [nan] b = [nan]\n",
      "step= 940 w = [nan] b = [nan]\n",
      "step= 960 w = [nan] b = [nan]\n",
      "step= 980 w = [nan] b = [nan]\n",
      "step= 1000 w = [nan] b = [nan]\n",
      "step= 1020 w = [nan] b = [nan]\n",
      "step= 1040 w = [nan] b = [nan]\n",
      "step= 1060 w = [nan] b = [nan]\n",
      "step= 1080 w = [nan] b = [nan]\n",
      "step= 1100 w = [nan] b = [nan]\n",
      "step= 1120 w = [nan] b = [nan]\n",
      "step= 1140 w = [nan] b = [nan]\n",
      "step= 1160 w = [nan] b = [nan]\n",
      "step= 1180 w = [nan] b = [nan]\n",
      "step= 1200 w = [nan] b = [nan]\n",
      "step= 1220 w = [nan] b = [nan]\n",
      "step= 1240 w = [nan] b = [nan]\n",
      "step= 1260 w = [nan] b = [nan]\n",
      "step= 1280 w = [nan] b = [nan]\n",
      "step= 1300 w = [nan] b = [nan]\n",
      "step= 1320 w = [nan] b = [nan]\n",
      "step= 1340 w = [nan] b = [nan]\n",
      "step= 1360 w = [nan] b = [nan]\n",
      "step= 1380 w = [nan] b = [nan]\n",
      "step= 1400 w = [nan] b = [nan]\n",
      "step= 1420 w = [nan] b = [nan]\n",
      "step= 1440 w = [nan] b = [nan]\n",
      "step= 1460 w = [nan] b = [nan]\n",
      "step= 1480 w = [nan] b = [nan]\n",
      "step= 1500 w = [nan] b = [nan]\n",
      "step= 1520 w = [nan] b = [nan]\n",
      "step= 1540 w = [nan] b = [nan]\n",
      "step= 1560 w = [nan] b = [nan]\n",
      "step= 1580 w = [nan] b = [nan]\n",
      "step= 1600 w = [nan] b = [nan]\n",
      "step= 1620 w = [nan] b = [nan]\n",
      "step= 1640 w = [nan] b = [nan]\n",
      "step= 1660 w = [nan] b = [nan]\n",
      "step= 1680 w = [nan] b = [nan]\n",
      "step= 1700 w = [nan] b = [nan]\n",
      "step= 1720 w = [nan] b = [nan]\n",
      "step= 1740 w = [nan] b = [nan]\n",
      "step= 1760 w = [nan] b = [nan]\n",
      "step= 1780 w = [nan] b = [nan]\n",
      "step= 1800 w = [nan] b = [nan]\n",
      "step= 1820 w = [nan] b = [nan]\n",
      "step= 1840 w = [nan] b = [nan]\n",
      "step= 1860 w = [nan] b = [nan]\n",
      "step= 1880 w = [nan] b = [nan]\n",
      "step= 1900 w = [nan] b = [nan]\n",
      "step= 1920 w = [nan] b = [nan]\n",
      "step= 1940 w = [nan] b = [nan]\n",
      "step= 1960 w = [nan] b = [nan]\n",
      "step= 1980 w = [nan] b = [nan]\n",
      "step= 2000 w = [nan] b = [nan]\n",
      "step= 2020 w = [nan] b = [nan]\n",
      "step= 2040 w = [nan] b = [nan]\n",
      "step= 2060 w = [nan] b = [nan]\n",
      "step= 2080 w = [nan] b = [nan]\n",
      "step= 2100 w = [nan] b = [nan]\n",
      "step= 2120 w = [nan] b = [nan]\n",
      "step= 2140 w = [nan] b = [nan]\n",
      "step= 2160 w = [nan] b = [nan]\n",
      "step= 2180 w = [nan] b = [nan]\n",
      "step= 2200 w = [nan] b = [nan]\n",
      "step= 2220 w = [nan] b = [nan]\n",
      "step= 2240 w = [nan] b = [nan]\n",
      "step= 2260 w = [nan] b = [nan]\n",
      "step= 2280 w = [nan] b = [nan]\n",
      "step= 2300 w = [nan] b = [nan]\n",
      "step= 2320 w = [nan] b = [nan]\n",
      "step= 2340 w = [nan] b = [nan]\n",
      "step= 2360 w = [nan] b = [nan]\n",
      "step= 2380 w = [nan] b = [nan]\n",
      "step= 2400 w = [nan] b = [nan]\n",
      "step= 2420 w = [nan] b = [nan]\n",
      "step= 2440 w = [nan] b = [nan]\n",
      "step= 2460 w = [nan] b = [nan]\n",
      "step= 2480 w = [nan] b = [nan]\n",
      "step= 2500 w = [nan] b = [nan]\n",
      "step= 2520 w = [nan] b = [nan]\n",
      "step= 2540 w = [nan] b = [nan]\n",
      "step= 2560 w = [nan] b = [nan]\n",
      "step= 2580 w = [nan] b = [nan]\n",
      "step= 2600 w = [nan] b = [nan]\n",
      "step= 2620 w = [nan] b = [nan]\n",
      "step= 2640 w = [nan] b = [nan]\n",
      "step= 2660 w = [nan] b = [nan]\n",
      "step= 2680 w = [nan] b = [nan]\n",
      "step= 2700 w = [nan] b = [nan]\n",
      "step= 2720 w = [nan] b = [nan]\n",
      "step= 2740 w = [nan] b = [nan]\n",
      "step= 2760 w = [nan] b = [nan]\n",
      "step= 2780 w = [nan] b = [nan]\n",
      "step= 2800 w = [nan] b = [nan]\n",
      "step= 2820 w = [nan] b = [nan]\n",
      "step= 2840 w = [nan] b = [nan]\n",
      "step= 2860 w = [nan] b = [nan]\n",
      "step= 2880 w = [nan] b = [nan]\n",
      "step= 2900 w = [nan] b = [nan]\n",
      "step= 2920 w = [nan] b = [nan]\n",
      "step= 2940 w = [nan] b = [nan]\n",
      "step= 2960 w = [nan] b = [nan]\n",
      "step= 2980 w = [nan] b = [nan]\n"
     ]
    }
   ],
   "source": [
    "# Full Execution Code\n",
    "\n",
    "import numpy as np\n",
    "import pylab\n",
    "import tensorflow as tf\n",
    "tf.reset_default_graph()\n",
    "sess = tf.Session()\n",
    "PERSQFT = 0.4  # $400 per sq ft\n",
    "BASE = 0.35    # $350K base price\n",
    "\n",
    "LEARNING_RATE = 0.1\n",
    "EPOCHS = 3000\n",
    "# Epoch = one iteration over all the training data (e.g. 20 images and batch size of 10, then epoch = 2 steps)\n",
    "ITEMS = 100\n",
    "\n",
    "def make_noisy_data (w=PERSQFT, b=BASE, n=ITEMS):\n",
    "    sqft = np.random.rand(n).astype(np.float32)*6\n",
    "    # multiply by 6 for max sq ft of 6000\n",
    "    noise = np.random.normal(scale = 0.08, size = len(sqft))\n",
    "    price = w * sqft + b + noise\n",
    "    return sqft, price\n",
    "\n",
    "sqft_train, price_train = make_noisy_data()\n",
    "\n",
    "x_placeholder = tf.placeholder(shape = [None], dtype = tf.float32)\n",
    "y_placeholder = tf.placeholder(shape = [None], dtype = tf.float32)\n",
    "w = tf.Variable(tf.random_normal([1]), name = 'w')\n",
    "b = tf.Variable(tf.random_normal([1]), name = 'b')\n",
    "\n",
    "# This is the same as y = tf.add(tf.mul(w, x_placeholder), b), but looks nicer \n",
    "y = w * x_placeholder + b\n",
    "\n",
    "loss = tf.reduce_mean(tf.square(y-y_placeholder))\n",
    "\n",
    "optimizer = tf.train.GradientDescentOptimizer(LEARNING_RATE)\n",
    "train = optimizer.minimize(loss)\n",
    "\n",
    "sess.run(tf.global_variables_initializer())\n",
    "\n",
    "for step in range(EPOCHS):\n",
    "    \n",
    "    result = sess.run([train], feed_dict = {x_placeholder: sqft_train, y_placeholder:price_train})\n",
    "    \n",
    "    if step % 20 == 0:\n",
    "        wt, bt = sess.run([w,b])\n",
    "        print('step= {} w = {} b = {}'.format(step, wt, bt))"
   ]
  },
  {
   "cell_type": "code",
   "execution_count": null,
   "metadata": {},
   "outputs": [],
   "source": []
  }
 ],
 "metadata": {
  "kernelspec": {
   "display_name": "Python 3",
   "language": "python",
   "name": "python3"
  },
  "language_info": {
   "codemirror_mode": {
    "name": "ipython",
    "version": 3
   },
   "file_extension": ".py",
   "mimetype": "text/x-python",
   "name": "python",
   "nbconvert_exporter": "python",
   "pygments_lexer": "ipython3",
   "version": "3.6.4"
  }
 },
 "nbformat": 4,
 "nbformat_minor": 2
}
