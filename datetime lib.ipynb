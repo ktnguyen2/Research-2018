{
 "cells": [
  {
   "cell_type": "code",
   "execution_count": 24,
   "metadata": {},
   "outputs": [
    {
     "name": "stdout",
     "output_type": "stream",
     "text": [
      "Users/ktnng/Documents/SCU/2018 Research/GUI photos\n"
     ]
    }
   ],
   "source": [
    "path = 'Users\\ktnng\\Documents\\SCU\\\\2018 Research\\GUI photos'\n",
    "dst = str(path).replace('\\\\','/')\n",
    "print(dst)"
   ]
  },
  {
   "cell_type": "code",
   "execution_count": 13,
   "metadata": {},
   "outputs": [
    {
     "name": "stdout",
     "output_type": "stream",
     "text": [
      "-ello\n"
     ]
    }
   ],
   "source": [
    "import datetime\n",
    "\n",
    "words = 'hello'\n",
    "timestamp = str(words).replace('h','-')\n",
    "print(timestamp)"
   ]
  }
 ],
 "metadata": {
  "kernelspec": {
   "display_name": "Python 3",
   "language": "python",
   "name": "python3"
  },
  "language_info": {
   "codemirror_mode": {
    "name": "ipython",
    "version": 3
   },
   "file_extension": ".py",
   "mimetype": "text/x-python",
   "name": "python",
   "nbconvert_exporter": "python",
   "pygments_lexer": "ipython3",
   "version": "3.6.4"
  }
 },
 "nbformat": 4,
 "nbformat_minor": 2
}
