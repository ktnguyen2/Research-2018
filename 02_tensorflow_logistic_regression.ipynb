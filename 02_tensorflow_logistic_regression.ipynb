{
 "cells": [
  {
   "cell_type": "markdown",
   "metadata": {},
   "source": [
    "In this exercise you will again apply what you've learned in the lecture. This model is for a classifier and will use the standard MNIST handwritten zip code dataset. Run each of the cells to create the classifier model, train the model, and test the model to see how well the model performs. \n",
    "\n",
    "You can modify parameters in certain cells to change the way that the training is performed and see what happens. Experiment to see if you can get better results than the defaults. "
   ]
  },
  {
   "cell_type": "code",
   "execution_count": 1,
   "metadata": {},
   "outputs": [
    {
     "name": "stderr",
     "output_type": "stream",
     "text": [
      "C:\\Users\\ktnng\\Anaconda3\\lib\\site-packages\\h5py\\__init__.py:36: FutureWarning: Conversion of the second argument of issubdtype from `float` to `np.floating` is deprecated. In future, it will be treated as `np.float64 == np.dtype(float).type`.\n",
      "  from ._conv import register_converters as _register_converters\n"
     ]
    },
    {
     "name": "stdout",
     "output_type": "stream",
     "text": [
      "Populating the interactive namespace from numpy and matplotlib\n",
      "cell finished\n"
     ]
    }
   ],
   "source": [
    "# cell 1\n",
    "# notebook version 1.2\n",
    "\n",
    "import tensorflow as tf\n",
    "from tensorflow.examples.tutorials.mnist import input_data\n",
    "\n",
    "import numpy as np\n",
    "\n",
    "%pylab inline\n",
    "\n",
    "print ('cell finished')"
   ]
  },
  {
   "cell_type": "markdown",
   "metadata": {},
   "source": [
    "Resetting the default graph is a good safety measure to make sure you are starting from a clean slate."
   ]
  },
  {
   "cell_type": "code",
   "execution_count": 2,
   "metadata": {},
   "outputs": [
    {
     "name": "stdout",
     "output_type": "stream",
     "text": [
      "cell finished\n"
     ]
    }
   ],
   "source": [
    "# cell 2\n",
    "\n",
    "tf.reset_default_graph()\n",
    "\n",
    "print ('cell finished')"
   ]
  },
  {
   "cell_type": "markdown",
   "metadata": {},
   "source": [
    "In the lecture we discussed the MNIST data set and the specialized python code created for this example to read the data set into appropriate variables. The read_data_sets function will download the raw data set, convert it into python data types, and store the information in the mnist variable. Once this is done we can examine the data set and use it to train, validate, and test our model. \n",
    "\n",
    "This cell downloads MNIST data into directory specified if it doesn't already exist and imports the MNIST dataset into variable mnist."
   ]
  },
  {
   "cell_type": "code",
   "execution_count": 3,
   "metadata": {},
   "outputs": [
    {
     "name": "stdout",
     "output_type": "stream",
     "text": [
      "WARNING:tensorflow:From <ipython-input-3-6b31137d56f1>:3: read_data_sets (from tensorflow.contrib.learn.python.learn.datasets.mnist) is deprecated and will be removed in a future version.\n",
      "Instructions for updating:\n",
      "Please use alternatives such as official/mnist/dataset.py from tensorflow/models.\n",
      "WARNING:tensorflow:From C:\\Users\\ktnng\\Anaconda3\\lib\\site-packages\\tensorflow\\contrib\\learn\\python\\learn\\datasets\\mnist.py:260: maybe_download (from tensorflow.contrib.learn.python.learn.datasets.base) is deprecated and will be removed in a future version.\n",
      "Instructions for updating:\n",
      "Please write your own downloading logic.\n",
      "WARNING:tensorflow:From C:\\Users\\ktnng\\Anaconda3\\lib\\site-packages\\tensorflow\\contrib\\learn\\python\\learn\\datasets\\mnist.py:262: extract_images (from tensorflow.contrib.learn.python.learn.datasets.mnist) is deprecated and will be removed in a future version.\n",
      "Instructions for updating:\n",
      "Please use tf.data to implement this functionality.\n",
      "Extracting /tmp/data\\train-images-idx3-ubyte.gz\n",
      "WARNING:tensorflow:From C:\\Users\\ktnng\\Anaconda3\\lib\\site-packages\\tensorflow\\contrib\\learn\\python\\learn\\datasets\\mnist.py:267: extract_labels (from tensorflow.contrib.learn.python.learn.datasets.mnist) is deprecated and will be removed in a future version.\n",
      "Instructions for updating:\n",
      "Please use tf.data to implement this functionality.\n",
      "Extracting /tmp/data\\train-labels-idx1-ubyte.gz\n",
      "WARNING:tensorflow:From C:\\Users\\ktnng\\Anaconda3\\lib\\site-packages\\tensorflow\\contrib\\learn\\python\\learn\\datasets\\mnist.py:110: dense_to_one_hot (from tensorflow.contrib.learn.python.learn.datasets.mnist) is deprecated and will be removed in a future version.\n",
      "Instructions for updating:\n",
      "Please use tf.one_hot on tensors.\n",
      "Extracting /tmp/data\\t10k-images-idx3-ubyte.gz\n",
      "Extracting /tmp/data\\t10k-labels-idx1-ubyte.gz\n",
      "WARNING:tensorflow:From C:\\Users\\ktnng\\Anaconda3\\lib\\site-packages\\tensorflow\\contrib\\learn\\python\\learn\\datasets\\mnist.py:290: DataSet.__init__ (from tensorflow.contrib.learn.python.learn.datasets.mnist) is deprecated and will be removed in a future version.\n",
      "Instructions for updating:\n",
      "Please use alternatives such as official/mnist/dataset.py from tensorflow/models.\n",
      "cell finished\n"
     ]
    }
   ],
   "source": [
    "# cell 3\n",
    "\n",
    "mnist = input_data.read_data_sets('/tmp/data', one_hot=True)\n",
    "\n",
    "print ('cell finished')"
   ]
  },
  {
   "cell_type": "markdown",
   "metadata": {},
   "source": [
    "This cell is meant to help understand the details of the MNIST dataset. You will notice a number of print statements that will print out different aspects of MNIST. Uncomment these and run the cell to see the results. \n",
    "\n",
    "The first print statement (2 lines) will print out the sizes of the train, validation, and test sets. \n",
    "\n",
    "The second shows how the labels are formatted as one hot arrays so that the labels match with the output of the neurons. You can change the index used to pick a particular image to see different labels. \n",
    "\n",
    "The next print statement uses the argmax function to return the index of the highest value in the label array. \n",
    "\n",
    "The next print statement prints out the number of pixels for an image in the training data. \n",
    "\n",
    "The final two statements plot the image from the index. Again feel free to modify the indices to see different images."
   ]
  },
  {
   "cell_type": "code",
   "execution_count": 23,
   "metadata": {},
   "outputs": [
    {
     "name": "stdout",
     "output_type": "stream",
     "text": [
      "Train, validation, test: 55000, 5000, 10000\n",
      "[0. 0. 0. 1. 0. 0. 0. 0. 0. 0.]\n",
      "3\n",
      "784\n"
     ]
    },
    {
     "data": {
      "text/plain": [
       "Text(0.5,1,'Label: 3')"
      ]
     },
     "execution_count": 23,
     "metadata": {},
     "output_type": "execute_result"
    },
    {
     "data": {
      "image/png": "[encoded data removed]",
      "text/plain": [
       "<matplotlib.figure.Figure at 0x2339fd41748>"
      ]
     },
     "metadata": {},
     "output_type": "display_data"
    }
   ],
   "source": [
    "# cell 4\n",
    "\n",
    "# Run this cell to understand the format of the dataset. Uncomment the print commands one by one to understand what\n",
    "# the data set looks like. As you uncomment a line use shift-enter to run the cell once more. In the first print you\n",
    "# actually have to uncomment two lines or you will get an error. \n",
    "\n",
    "# 1. There are 55k, 5k, and 10k examples in train, validation, and test.\n",
    "print ('Train, validation, test: %d, %d, %d' % \n",
    "      (len(mnist.train.images), len(mnist.validation.images), len(mnist.test.images)))\n",
    "\n",
    "# 2. The format of the labels is 'one-hot'. Labels match with output of neurons.\n",
    "# The fifth image happens to be a '1'.\n",
    "# This is represented as '[ 0.  1.  0.  0.  0.  0.  0.  0.  0.  0.]'\n",
    "print (mnist.train.labels[11])\n",
    "\n",
    "# You can find the index of the label, like this:\n",
    "print (np.argmax(mnist.train.labels[11]))\n",
    "\n",
    "# 3. An image is a 'flattened' array of 28*28 = 784 pixels.\n",
    "print (len(mnist.train.images[11]))\n",
    "\n",
    "# 4. To display an image, first reshape it to 28x28.\n",
    "pylab.imshow(mnist.train.images[11].reshape((28,28)), cmap=pylab.cm.gray_r)   \n",
    "pylab.title('Label: %d' % np.argmax(mnist.train.labels[11])) "
   ]
  },
  {
   "cell_type": "markdown",
   "metadata": {},
   "source": [
    "The next cell declares a number of constants we will use during the training process. There are 10 image classes, each image is 28 x 28 pixels. \n",
    "\n",
    "The default values for training are shown. Feel free to experiment to see how they change results, but don't change the number of classes or pixels or the model won't work anymore. \n"
   ]
  },
  {
   "cell_type": "code",
   "execution_count": 24,
   "metadata": {},
   "outputs": [
    {
     "name": "stdout",
     "output_type": "stream",
     "text": [
      "cell finished\n"
     ]
    }
   ],
   "source": [
    "# cell 5\n",
    "\n",
    "NUM_CLASSES = 10\n",
    "NUM_PIXELS = 28 * 28\n",
    "\n",
    "BATCH_SIZE = 100\n",
    "LEARNING_RATE = 0.5\n",
    "EPOCHS = 2000\n",
    "\n",
    "print ('cell finished')"
   ]
  },
  {
   "cell_type": "markdown",
   "metadata": {
    "collapsed": true
   },
   "source": [
    "This model will use two placeholders to feed information into the model. The `x` placeholder will accept the training or testing images so that they can be fed into the rest of the network. \n",
    "\n",
    "The `y_` placeholder accepts the expected network output value. It's value is compared to the generated value from the network and the loss calculated. \n",
    "\n",
    "Variable `w` is the trainable variable used to hold the weights per pixel and `b` is the bias. These values will be updated through the training process so that the model learns how to classify the digits. "
   ]
  },
  {
   "cell_type": "code",
   "execution_count": 26,
   "metadata": {},
   "outputs": [
    {
     "name": "stdout",
     "output_type": "stream",
     "text": [
      "cell finished\n"
     ]
    }
   ],
   "source": [
    "# cell 6\n",
    "\n",
    "# Define input variables\n",
    "\n",
    "x = tf.placeholder(tf.float32, [None,NUM_PIXELS])\n",
    "# Accepts training/testing images\n",
    "y_ = tf.placeholder(tf.float32, [None, NUM_CLASSES])\n",
    "# Accepts the expected network output value. Compared to generated value from network and loss calculated\n",
    "\n",
    "w = tf.Variable(tf.truncated_normal([NUM_PIXELS,NUM_CLASSES], stddev=0.1))\n",
    "# Weights per pixel\n",
    "b = tf.Variable(tf.zeros([10]))\n",
    "# Bias\n",
    "# Weights and bias are updated throughout the training process to help the model learn\n",
    "\n",
    "print ('cell finished')"
   ]
  },
  {
   "cell_type": "markdown",
   "metadata": {},
   "source": [
    "The next cell specifies the matrix multiplication operation that does the inference step in the training process. The current values of `w` and `b` are used to predict the classification of the pixels input through the `x` placeholder. The output `y` is the current inferred output value."
   ]
  },
  {
   "cell_type": "code",
   "execution_count": 27,
   "metadata": {},
   "outputs": [
    {
     "name": "stdout",
     "output_type": "stream",
     "text": [
      "cell finished\n"
     ]
    }
   ],
   "source": [
    "# cell 7\n",
    "\n",
    "y = tf.matmul(x,w) + b\n",
    "\n",
    "print ('cell finished')"
   ]
  },
  {
   "cell_type": "markdown",
   "metadata": {},
   "source": [
    "The next step is to compare the calculated output value in `y` against the expected output passed in through the `y_` placeholder. This is done with the `tf.nn.softmax_cross_entropy_with_logits` function as discussed in the lecture. The value from this function is computed per training example. The mean of all loss values for a batch is gathered in variable `cross_entropy`. This loss value is used passed to an optimizer that will train the model based on the specified LEARNING_RATE. \n",
    "\n",
    "Since the optimizer understands the model graph, the trainable weights and biases are updated according to the loss values as training proceeds. The variable `train_step` actually specifies an operation that updates the weights and biases in accordance with the loss value.  "
   ]
  },
  {
   "cell_type": "code",
   "execution_count": 28,
   "metadata": {},
   "outputs": [
    {
     "name": "stdout",
     "output_type": "stream",
     "text": [
      "WARNING:tensorflow:From <ipython-input-28-7bd26ad3870b>:3: softmax_cross_entropy_with_logits (from tensorflow.python.ops.nn_ops) is deprecated and will be removed in a future version.\n",
      "Instructions for updating:\n",
      "\n",
      "Future major versions of TensorFlow will allow gradients to flow\n",
      "into the labels input on backprop by default.\n",
      "\n",
      "See @{tf.nn.softmax_cross_entropy_with_logits_v2}.\n",
      "\n",
      "cell finished\n"
     ]
    }
   ],
   "source": [
    "# cell 8\n",
    "\n",
    "cross_entropy = tf.reduce_mean(tf.nn.softmax_cross_entropy_with_logits(labels=y_, logits=y))\n",
    "# Finds the mean of loss values for one batch\n",
    "\n",
    "train_step = tf.train.GradientDescentOptimizer(LEARNING_RATE).minimize(cross_entropy)\n",
    "# Specifies an operation that updates weights and biases in accordance with the loss value\n",
    "\n",
    "print ('cell finished')"
   ]
  },
  {
   "cell_type": "markdown",
   "metadata": {},
   "source": [
    "The process of training the model occurs in a session. Sessions can be created on the local machine or remote machines, thus the need to initialize variables before data is fed into the model for training or inference. "
   ]
  },
  {
   "cell_type": "code",
   "execution_count": 29,
   "metadata": {},
   "outputs": [
    {
     "name": "stdout",
     "output_type": "stream",
     "text": [
      "cell finished\n"
     ]
    }
   ],
   "source": [
    "# cell 9\n",
    "\n",
    "sess = tf.InteractiveSession()\n",
    "sess.run(tf.global_variables_initializer())\n",
    "\n",
    "\n",
    "print ('cell finished')"
   ]
  },
  {
   "cell_type": "markdown",
   "metadata": {},
   "source": [
    "Let's try the model out before it is trained to see how well it does. Since the weights and biases are random values there is a chance (about 1 in 10) that the correct value is returned from classification. This code will allow you to try an example to see if it works. \n",
    "\n",
    "The `image_index` variable is used to grab an example from the testing data. The expected label is captured in variable `exp_label`. The pixel data is captured in `x_image`. These values are fed to the network and the session run to predict the output in variable `outval`. Variable `label` is then calculated from the argmax of the outval. \n",
    "\n",
    "The results are printed out and the image plotted so you can see which one it is. \n",
    "\n",
    "Experiment with the `image_index` variable to see if you can find images where the untrained model correctly predicts the label. You will need to change the index and rerun this cell. "
   ]
  },
  {
   "cell_type": "code",
   "execution_count": 53,
   "metadata": {},
   "outputs": [
    {
     "name": "stdout",
     "output_type": "stream",
     "text": [
      "calculated label = 7 expected label = 7\n"
     ]
    },
    {
     "data": {
      "text/plain": [
       "Text(0.5,1,'Label: 7')"
      ]
     },
     "execution_count": 53,
     "metadata": {},
     "output_type": "execute_result"
    },
    {
     "data": {
      "image/png": "[encoded data removed]",
      "text/plain": [
       "<matplotlib.figure.Figure at 0x233a1c18390>"
      ]
     },
     "metadata": {},
     "output_type": "display_data"
    }
   ],
   "source": [
    "# cell 10\n",
    "\n",
    "image_index = 80\n",
    "exp_label = np.argmax(mnist.test.labels[image_index], 0)\n",
    "x_image = np.reshape(mnist.test.images[image_index], [-1,784])\n",
    "\n",
    "outval = sess.run(y, feed_dict={x:x_image})\n",
    "label= np.argmax(outval[0],0)\n",
    "\n",
    "print (\"calculated label = {} expected label = {}\".format(label, exp_label))\n",
    "pylab.imshow(mnist.test.images[image_index].reshape((28,28)), cmap=pylab.cm.gray_r)   \n",
    "pylab.title('Label: %d' % np.argmax(mnist.test.labels[image_index])) "
   ]
  },
  {
   "cell_type": "markdown",
   "metadata": {},
   "source": [
    "This next cell is where all the magic happens. The training data is applied to the model and the `train_step` is repeatedly run to adjust the trainable variables `w` and `b`. \n",
    "\n",
    "Notice that the training process is using the `next_batch` method of the dataset input code to retrieve batches of training data that are then applied to the model. \n",
    "\n",
    "Every 100 training steps the step and current loss values are output. The loss can be used to gauge the success of the training. "
   ]
  },
  {
   "cell_type": "code",
   "execution_count": 37,
   "metadata": {},
   "outputs": [
    {
     "name": "stdout",
     "output_type": "stream",
     "text": [
      "train_step = 0 loss = 2.6818978786468506\n",
      "train_step = 100 loss = 0.33554136753082275\n",
      "train_step = 200 loss = 0.25595197081565857\n",
      "train_step = 300 loss = 0.2848292291164398\n",
      "train_step = 400 loss = 0.3364478051662445\n",
      "train_step = 500 loss = 0.3536141514778137\n",
      "train_step = 600 loss = 0.24208836257457733\n",
      "train_step = 700 loss = 0.3684713840484619\n",
      "train_step = 800 loss = 0.2541218400001526\n",
      "train_step = 900 loss = 0.39833882451057434\n",
      "train_step = 1000 loss = 0.3820236623287201\n",
      "train_step = 1100 loss = 0.182321697473526\n",
      "train_step = 1200 loss = 0.30529728531837463\n",
      "train_step = 1300 loss = 0.2944149672985077\n",
      "train_step = 1400 loss = 0.21205317974090576\n",
      "train_step = 1500 loss = 0.2824811637401581\n",
      "train_step = 1600 loss = 0.25405314564704895\n",
      "train_step = 1700 loss = 0.2688947021961212\n",
      "train_step = 1800 loss = 0.26403558254241943\n",
      "train_step = 1900 loss = 0.11974512040615082\n",
      "cell finished\n"
     ]
    }
   ],
   "source": [
    "# cell 11\n",
    "\n",
    "for t in range(EPOCHS):\n",
    "  batch_xs, batch_ys = mnist.train.next_batch(100)\n",
    "  loss, _ = sess.run([cross_entropy,train_step], feed_dict={x: batch_xs, y_: batch_ys})\n",
    "  if t%100 == 0:\n",
    "    print('train_step = {} loss = {}'.format(t,loss))\n",
    "\n",
    "print ('cell finished')"
   ]
  },
  {
   "cell_type": "markdown",
   "metadata": {},
   "source": [
    "Now that the model is trained it is time to see how well it does the classification. A correct classification is one where the predicted label is the same as the expected label. Remember the label is specified by the index of the argument that has the highest value in the output vector from the neurons. The argmax function will return this value. \n",
    "\n",
    "If this value is compared to the expected output value, the two should match for a correct prediction. \n",
    "\n",
    "Variable `correct_prediction` is a vector of boolean values for the entire batch. Variable `accuracy` converts the boolean values to float32 values and calculates the mean. More true values gives a higher mean, or a higher accuracy"
   ]
  },
  {
   "cell_type": "code",
   "execution_count": 38,
   "metadata": {},
   "outputs": [
    {
     "name": "stdout",
     "output_type": "stream",
     "text": [
      "0.9211636\n"
     ]
    }
   ],
   "source": [
    "# cell 12\n",
    "\n",
    "correct_prediction = tf.equal(tf.argmax(y,1), tf.argmax(y_,1))\n",
    "\n",
    "accuracy = tf.reduce_mean(tf.cast(correct_prediction, tf.float32))\n",
    "\n",
    "print(sess.run(accuracy, feed_dict={x:mnist.train.images, y_:mnist.train.labels}))\n",
    "\n"
   ]
  },
  {
   "cell_type": "markdown",
   "metadata": {},
   "source": [
    "\n",
    "The previous cell showed the training accuracy because it used the training images. To get the testing accuracy let's run the accuracy on the test images. "
   ]
  },
  {
   "cell_type": "code",
   "execution_count": 39,
   "metadata": {},
   "outputs": [
    {
     "name": "stdout",
     "output_type": "stream",
     "text": [
      "0.9205\n"
     ]
    }
   ],
   "source": [
    "# cell 13\n",
    "\n",
    "print(sess.run(accuracy, feed_dict={x:mnist.test.images, y_:mnist.test.labels}))\n"
   ]
  },
  {
   "cell_type": "markdown",
   "metadata": {},
   "source": [
    "The testing accuracy is slightly different, but remember we did not train on those images, the model has never seen those images before, so having a similar accuracy is a good sign. You might think that over 90% accuracy is good, but the accuracy of this model has great room for improvement. As we move forward we will develop more accurate models."
   ]
  },
  {
   "cell_type": "markdown",
   "metadata": {
    "collapsed": true
   },
   "source": [
    "Go back to cell 10 and change the image_index once more. The model now uses the trained weight values. Nine out of ten times as we see by the accuracy it should pick the correct label."
   ]
  },
  {
   "cell_type": "markdown",
   "metadata": {},
   "source": [
    "**IMPORTANT: When you are finished make sure you go to the Jupyter notebook “File” menu above and select “Close and halt”. This will shutdown this notebook and take you back to the Jupyter Notebook Home tab.**"
   ]
  },
  {
   "cell_type": "code",
   "execution_count": null,
   "metadata": {},
   "outputs": [],
   "source": []
  }
 ],
 "metadata": {
  "kernelspec": {
   "display_name": "Python 3",
   "language": "python",
   "name": "python3"
  },
  "language_info": {
   "codemirror_mode": {
    "name": "ipython",
    "version": 3
   },
   "file_extension": ".py",
   "mimetype": "text/x-python",
   "name": "python",
   "nbconvert_exporter": "python",
   "pygments_lexer": "ipython3",
   "version": "3.6.4"
  }
 },
 "nbformat": 4,
 "nbformat_minor": 2
}
