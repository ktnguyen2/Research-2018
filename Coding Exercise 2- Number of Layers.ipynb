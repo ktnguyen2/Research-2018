{
 "cells": [
  {
   "cell_type": "markdown",
   "metadata": {},
   "source": [
    "#### MNIST training with different hidden layer size\n",
    "\n",
    "In this exercise we will see how the hidden layer size affects on the test accuracy and test loss of a MNIST  Deep Neural Network classifier.\n",
    "\n",
    "Use matplotlib to plot the test accuracy vs sizes and test loss vs sizes\n",
    "\n",
    "You should be able to complete this using the MNIST classifier we built in the last meeting."
   ]
  },
  {
   "cell_type": "code",
   "execution_count": 63,
   "metadata": {},
   "outputs": [],
   "source": [
    "# import functions:\n",
    "import matplotlib.pyplot as plt\n",
    "\n",
    "import keras\n",
    "from keras.layers import Dense, Flatten, Reshape\n",
    "from keras.models import Model\n",
    "from keras.models import Sequential\n",
    "from keras.datasets import mnist\n",
    "import matplotlib.pyplot as plt\n",
    "from keras.utils import to_categorical"
   ]
  },
  {
   "cell_type": "code",
   "execution_count": 64,
   "metadata": {},
   "outputs": [],
   "source": [
    "# write a function to construct model with hidden layer defined by the size function\n",
    "def make_model(size):\n",
    "    model = Sequential()\n",
    "    model.add(Reshape((784,), input_shape=(28,28)))\n",
    "    #Add code here:\n",
    "    model.add(Dense(size, activation = 'relu'))\n",
    "    model.add(Dense(size, activation = 'softmax'))\n",
    "    return model"
   ]
  },
  {
   "cell_type": "code",
   "execution_count": 65,
   "metadata": {},
   "outputs": [],
   "source": [
    "sizes = [256,512,784,1024] # create a list of sizes you want to experiment with\n",
    "test_loss = [] # create array to store  test loss \n",
    "test_accuracy = [] # create array to store test accuracy"
   ]
  },
  {
   "cell_type": "code",
   "execution_count": 66,
   "metadata": {},
   "outputs": [],
   "source": [
    "# load MNIST data:\n",
    "(x_train, y_train), (x_test,y_test) = mnist.load_data()\n",
    "#x_train = x_train.reshape(x_train.shape[0],28,28,1)\n",
    "#x_test = x_test.reshape(x_test.shape[0],28,28,1)\n",
    "\n",
    "# convert the range of values of train and test images from 0 to 255 to 0 to 1:\n",
    "x_train = x_train.astype('float64')/255\n",
    "x_test = x_test.astype('float64')/255\n",
    "\n",
    "# use to_categorical to convert integer labels to logits:\n",
    "y_train = to_categorical(y_train)\n",
    "y_test = to_categorical(y_test)"
   ]
  },
  {
   "cell_type": "code",
   "execution_count": 67,
   "metadata": {},
   "outputs": [
    {
     "name": "stdout",
     "output_type": "stream",
     "text": [
      "Size:  256\n",
      "Epoch 1/10\n",
      "60000/60000 [==============================] - 7s 111us/step - loss: 0.8145 - acc: 0.8056\n",
      "Epoch 2/10\n",
      "60000/60000 [==============================] - 7s 113us/step - loss: 0.4086 - acc: 0.8893\n",
      "Epoch 3/10\n",
      "60000/60000 [==============================] - 8s 127us/step - loss: 0.3480 - acc: 0.9032\n",
      "Epoch 4/10\n",
      "60000/60000 [==============================] - 12s 207us/step - loss: 0.3161 - acc: 0.9112\n",
      "Epoch 5/10\n",
      "60000/60000 [==============================] - 12s 193us/step - loss: 0.2939 - acc: 0.9172\n",
      "Epoch 6/10\n",
      "60000/60000 [==============================] - 9s 151us/step - loss: 0.2760 - acc: 0.9226\n",
      "Epoch 7/10\n",
      "60000/60000 [==============================] - 12s 198us/step - loss: 0.2612 - acc: 0.92701s - l\n",
      "Epoch 8/10\n",
      "60000/60000 [==============================] - 11s 189us/step - loss: 0.2478 - acc: 0.9310\n",
      "Epoch 9/10\n",
      "60000/60000 [==============================] - 13s 221us/step - loss: 0.2362 - acc: 0.9344\n",
      "Epoch 10/10\n",
      "60000/60000 [==============================] - 11s 184us/step - loss: 0.2256 - acc: 0.9373\n",
      "10000/10000 [==============================] - 2s 182us/step\n",
      "Size:  512\n",
      "Epoch 1/10\n",
      "60000/60000 [==============================] - 22s 366us/step - loss: 0.8237 - acc: 0.8121\n",
      "Epoch 2/10\n",
      "60000/60000 [==============================] - 22s 374us/step - loss: 0.4012 - acc: 0.8942\n",
      "Epoch 3/10\n",
      "60000/60000 [==============================] - 22s 374us/step - loss: 0.3387 - acc: 0.9063\n",
      "Epoch 4/10\n",
      "60000/60000 [==============================] - 22s 370us/step - loss: 0.3060 - acc: 0.9153\n",
      "Epoch 5/10\n",
      "60000/60000 [==============================] - 20s 341us/step - loss: 0.2834 - acc: 0.9212\n",
      "Epoch 6/10\n",
      "60000/60000 [==============================] - 20s 326us/step - loss: 0.2654 - acc: 0.9265\n",
      "Epoch 7/10\n",
      "60000/60000 [==============================] - 19s 309us/step - loss: 0.2509 - acc: 0.9306\n",
      "Epoch 8/10\n",
      "60000/60000 [==============================] - 18s 294us/step - loss: 0.2381 - acc: 0.9337\n",
      "Epoch 9/10\n",
      "60000/60000 [==============================] - 18s 294us/step - loss: 0.2270 - acc: 0.9371\n",
      "Epoch 10/10\n",
      "60000/60000 [==============================] - 19s 310us/step - loss: 0.2170 - acc: 0.9398\n",
      "10000/10000 [==============================] - 2s 197us/step\n",
      "Size:  784\n",
      "Epoch 1/10\n",
      "60000/60000 [==============================] - 26s 430us/step - loss: 0.7872 - acc: 0.8224\n",
      "Epoch 2/10\n",
      "60000/60000 [==============================] - 25s 414us/step - loss: 0.3892 - acc: 0.8962\n",
      "Epoch 3/10\n",
      "60000/60000 [==============================] - 26s 430us/step - loss: 0.3296 - acc: 0.9090\n",
      "Epoch 4/10\n",
      "60000/60000 [==============================] - 26s 431us/step - loss: 0.2977 - acc: 0.9169\n",
      "Epoch 5/10\n",
      "60000/60000 [==============================] - 26s 427us/step - loss: 0.2750 - acc: 0.9235\n",
      "Epoch 6/10\n",
      "60000/60000 [==============================] - 25s 424us/step - loss: 0.2571 - acc: 0.9291\n",
      "Epoch 7/10\n",
      "60000/60000 [==============================] - 25s 416us/step - loss: 0.2418 - acc: 0.9332\n",
      "Epoch 8/10\n",
      "60000/60000 [==============================] - 25s 413us/step - loss: 0.2292 - acc: 0.9367\n",
      "Epoch 9/10\n",
      "60000/60000 [==============================] - 26s 427us/step - loss: 0.2177 - acc: 0.9400\n",
      "Epoch 10/10\n",
      "60000/60000 [==============================] - 25s 410us/step - loss: 0.2074 - acc: 0.9427\n",
      "10000/10000 [==============================] - 2s 245us/step\n",
      "Size:  1024\n",
      "Epoch 1/10\n",
      "60000/60000 [==============================] - 31s 524us/step - loss: 0.7817 - acc: 0.8248\n",
      "Epoch 2/10\n",
      "60000/60000 [==============================] - 31s 510us/step - loss: 0.3888 - acc: 0.8967\n",
      "Epoch 3/10\n",
      "60000/60000 [==============================] - 31s 517us/step - loss: 0.3291 - acc: 0.9097\n",
      "Epoch 4/10\n",
      "60000/60000 [==============================] - 32s 534us/step - loss: 0.2971 - acc: 0.9178\n",
      "Epoch 5/10\n",
      "60000/60000 [==============================] - 32s 528us/step - loss: 0.2746 - acc: 0.9238\n",
      "Epoch 6/10\n",
      "60000/60000 [==============================] - 30s 493us/step - loss: 0.2572 - acc: 0.9295\n",
      "Epoch 7/10\n",
      "60000/60000 [==============================] - 30s 494us/step - loss: 0.2425 - acc: 0.9335\n",
      "Epoch 8/10\n",
      "60000/60000 [==============================] - 30s 502us/step - loss: 0.2300 - acc: 0.9370\n",
      "Epoch 9/10\n",
      "60000/60000 [==============================] - 30s 494us/step - loss: 0.2185 - acc: 0.9397\n",
      "Epoch 10/10\n",
      "60000/60000 [==============================] - 29s 486us/step - loss: 0.2083 - acc: 0.9426\n",
      "10000/10000 [==============================] - 3s 348us/step\n"
     ]
    }
   ],
   "source": [
    "for size in sizes:\n",
    "    print(\"Size: \", size)\n",
    "    my_model = make_model(size)\n",
    "    # compile model  with optimizer='sgd' loss='categorical_crossentropy'  metrics=['accuracy']):\n",
    "    my_model.compile(optimizer='sgd', loss='categorical_crossentropy',metrics=['accuracy'])\n",
    "    # fit model with  epochs=10, batch_size=64:\n",
    "    history = my_model.fit(x_train, y_train, epochs=10, shuffle='batch',batch_size=64)\n",
    "    # evaluate model to get test loss and test accuracy:\n",
    "    t_loss, t_accuracy = my_model.evaluate(x_test,y_test)\n",
    "    print(\"Test Accuracy \", t_accuracy)\n",
    "    print(\"Test Loss \",t_loss)\n",
    "    # append the test loss and test accuracy to the arrays we created earlier:\n",
    "    test_loss.append(t_loss)\n",
    "    test_accuracy.append(t_accuracy)"
   ]
  },
  {
   "cell_type": "code",
   "execution_count": 68,
   "metadata": {},
   "outputs": [
    {
     "data": {
      "text/plain": [
       "[<matplotlib.lines.Line2D at 0x1ac0bc89e10>]"
      ]
     },
     "execution_count": 68,
     "metadata": {},
     "output_type": "execute_result"
    },
    {
     "data": {
      "image/png": "[encoded data removed]",
      "text/plain": [
       "<matplotlib.figure.Figure at 0x1ac08d9d5c0>"
      ]
     },
     "metadata": {},
     "output_type": "display_data"
    }
   ],
   "source": [
    "plt.figure()\n",
    "plt.xscale('log', basex=2)\n",
    "plt.ylabel('Test Accuracy')\n",
    "plt.xlabel('Hidden layer size')\n",
    "plt.plot(sizes, test_accuracy, 'ro')"
   ]
  },
  {
   "cell_type": "code",
   "execution_count": 69,
   "metadata": {},
   "outputs": [
    {
     "data": {
      "text/plain": [
       "[<matplotlib.lines.Line2D at 0x1ac0c8114a8>]"
      ]
     },
     "execution_count": 69,
     "metadata": {},
     "output_type": "execute_result"
    },
    {
     "data": {
      "image/png": "[encoded data removed]",
      "text/plain": [
       "<matplotlib.figure.Figure at 0x1ac0799fcf8>"
      ]
     },
     "metadata": {},
     "output_type": "display_data"
    }
   ],
   "source": [
    "plt.figure()\n",
    "plt.xscale('log', basex=2)\n",
    "plt.ylabel('Test Loss')\n",
    "plt.xlabel('Hidden layer size')\n",
    "plt.plot(sizes, test_loss, 'ro')"
   ]
  },
  {
   "cell_type": "code",
   "execution_count": null,
   "metadata": {},
   "outputs": [],
   "source": []
  }
 ],
 "metadata": {
  "kernelspec": {
   "display_name": "Python 3",
   "language": "python",
   "name": "python3"
  },
  "language_info": {
   "codemirror_mode": {
    "name": "ipython",
    "version": 3
   },
   "file_extension": ".py",
   "mimetype": "text/x-python",
   "name": "python",
   "nbconvert_exporter": "python",
   "pygments_lexer": "ipython3",
   "version": "3.6.4"
  }
 },
 "nbformat": 4,
 "nbformat_minor": 2
}
