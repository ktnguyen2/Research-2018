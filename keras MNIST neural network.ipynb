{
 "cells": [
  {
   "cell_type": "code",
   "execution_count": 1,
   "metadata": {},
   "outputs": [
    {
     "name": "stderr",
     "output_type": "stream",
     "text": [
      "C:\\Users\\ktnng\\Anaconda3\\lib\\site-packages\\h5py\\__init__.py:36: FutureWarning: Conversion of the second argument of issubdtype from `float` to `np.floating` is deprecated. In future, it will be treated as `np.float64 == np.dtype(float).type`.\n",
      "  from ._conv import register_converters as _register_converters\n",
      "Using TensorFlow backend.\n"
     ]
    }
   ],
   "source": [
    "import keras\n",
    "from keras.layers import Dense, Flatten, Reshape\n",
    "from keras.models import Model\n",
    "from keras.models import Sequential\n",
    "# from keras.datasets import mnist\n",
    "import matplotlib.pyplot as plt\n",
    "from keras.utils import to_categorical"
   ]
  },
  {
   "cell_type": "code",
   "execution_count": 2,
   "metadata": {},
   "outputs": [],
   "source": [
    "model = Sequential() # a sequential model is a linear stack of layers\n",
    "(x_train, y_train), (x_test,y_test) = mnist.load_data()\n",
    "# x has the image and y has the label\n",
    "# x_train and y_train are used to train, x_test and y_test are used to test"
   ]
  },
  {
   "cell_type": "code",
   "execution_count": null,
   "metadata": {},
   "outputs": [],
   "source": [
    "x_train.shape\n",
    "# 60k images, each of size 28x28 pixels"
   ]
  },
  {
   "cell_type": "code",
   "execution_count": null,
   "metadata": {},
   "outputs": [],
   "source": [
    "y_train[0]\n",
    "# first image has label of 5"
   ]
  },
  {
   "cell_type": "code",
   "execution_count": null,
   "metadata": {},
   "outputs": [],
   "source": [
    "plt.imshow(x_train[0], cmap = 'gray')\n",
    "# shows first image\n",
    "# second parameter changes color scheme, cmap - \"color map\""
   ]
  },
  {
   "cell_type": "code",
   "execution_count": null,
   "metadata": {},
   "outputs": [],
   "source": [
    "plt.imshow(x_test[0], cmap='gray')"
   ]
  },
  {
   "cell_type": "code",
   "execution_count": 4,
   "metadata": {},
   "outputs": [],
   "source": [
    "x_train = x_train.reshape(x_train.shape[0],28,28,1)\n",
    "x_test = x_test.reshape(x_test.shape[0],28,28,1)\n",
    "model.add(Reshape((784,), input_shape=(28,28,1)))\n",
    "model.add(Dense(256, activation = 'relu'))\n",
    "model.add(Dense(512, activation = 'relu'))\n",
    "model.add(Dense(784, activation = 'relu'))\n",
    "# Dense makes the layer become fully connected\n",
    "# 512 neurons in the layer\n",
    "model.add(Dense(10,activation='softmax'))\n",
    "# mnist has 10 classes"
   ]
  },
  {
   "cell_type": "code",
   "execution_count": 5,
   "metadata": {},
   "outputs": [
    {
     "name": "stdout",
     "output_type": "stream",
     "text": [
      "_________________________________________________________________\n",
      "Layer (type)                 Output Shape              Param #   \n",
      "=================================================================\n",
      "reshape_1 (Reshape)          (None, 784)               0         \n",
      "_________________________________________________________________\n",
      "dense_1 (Dense)              (None, 256)               200960    \n",
      "_________________________________________________________________\n",
      "dense_2 (Dense)              (None, 512)               131584    \n",
      "_________________________________________________________________\n",
      "dense_3 (Dense)              (None, 784)               402192    \n",
      "_________________________________________________________________\n",
      "dense_4 (Dense)              (None, 10)                7850      \n",
      "=================================================================\n",
      "Total params: 742,586\n",
      "Trainable params: 742,586\n",
      "Non-trainable params: 0\n",
      "_________________________________________________________________\n"
     ]
    }
   ],
   "source": [
    "model.summary()"
   ]
  },
  {
   "cell_type": "code",
   "execution_count": null,
   "metadata": {},
   "outputs": [],
   "source": [
    "y_train.shape"
   ]
  },
  {
   "cell_type": "code",
   "execution_count": 6,
   "metadata": {},
   "outputs": [],
   "source": [
    "#Scale pixel values (0 to 255) to (0,1)\n",
    "x_train = x_train.astype('float32')/255\n",
    "x_test = x_test.astype('float32')/255\n",
    "\n",
    "#Convert integer labels to logits or one hot bit\n",
    "y_train = to_categorical(y_train)\n",
    "y_test = to_categorical(y_test)"
   ]
  },
  {
   "cell_type": "code",
   "execution_count": 7,
   "metadata": {},
   "outputs": [],
   "source": [
    "model.compile(optimizer='sgd', # stochastic gradient descent\n",
    "              loss='categorical_crossentropy',\n",
    "              metrics=['accuracy'])\n",
    "# configures model for training"
   ]
  },
  {
   "cell_type": "code",
   "execution_count": 8,
   "metadata": {},
   "outputs": [
    {
     "name": "stdout",
     "output_type": "stream",
     "text": [
      "Epoch 1/20\n",
      "60000/60000 [==============================] - 29s 478us/step - loss: 0.8756 - acc: 0.7898\n",
      "Epoch 2/20\n",
      "60000/60000 [==============================] - 31s 514us/step - loss: 0.3306 - acc: 0.9054\n",
      "Epoch 3/20\n",
      "60000/60000 [==============================] - 33s 550us/step - loss: 0.2710 - acc: 0.9217\n",
      "Epoch 4/20\n",
      "60000/60000 [==============================] - 37s 614us/step - loss: 0.2345 - acc: 0.9327\n",
      "Epoch 5/20\n",
      "60000/60000 [==============================] - 35s 583us/step - loss: 0.2072 - acc: 0.9407\n",
      "Epoch 6/20\n",
      "60000/60000 [==============================] - 31s 516us/step - loss: 0.1864 - acc: 0.9459\n",
      "Epoch 7/20\n",
      "60000/60000 [==============================] - 28s 462us/step - loss: 0.1692 - acc: 0.9509\n",
      "Epoch 8/20\n",
      "60000/60000 [==============================] - 39s 643us/step - loss: 0.1542 - acc: 0.9553\n",
      "Epoch 9/20\n",
      "60000/60000 [==============================] - 40s 667us/step - loss: 0.1418 - acc: 0.9584\n",
      "Epoch 10/20\n",
      "60000/60000 [==============================] - 40s 661us/step - loss: 0.1311 - acc: 0.9621\n",
      "Epoch 11/20\n",
      "60000/60000 [==============================] - 36s 600us/step - loss: 0.1210 - acc: 0.9650\n",
      "Epoch 12/20\n",
      "60000/60000 [==============================] - 36s 600us/step - loss: 0.1134 - acc: 0.9671\n",
      "Epoch 13/20\n",
      "60000/60000 [==============================] - 38s 632us/step - loss: 0.1059 - acc: 0.9696\n",
      "Epoch 14/20\n",
      "60000/60000 [==============================] - 38s 641us/step - loss: 0.0990 - acc: 0.9713\n",
      "Epoch 15/20\n",
      "60000/60000 [==============================] - 36s 607us/step - loss: 0.0931 - acc: 0.9734\n",
      "Epoch 16/20\n",
      "60000/60000 [==============================] - 38s 632us/step - loss: 0.0878 - acc: 0.9749\n",
      "Epoch 17/20\n",
      "60000/60000 [==============================] - 38s 634us/step - loss: 0.0826 - acc: 0.9764\n",
      "Epoch 18/20\n",
      "60000/60000 [==============================] - 38s 633us/step - loss: 0.0782 - acc: 0.9774\n",
      "Epoch 19/20\n",
      "60000/60000 [==============================] - 36s 596us/step - loss: 0.0739 - acc: 0.9789\n",
      "Epoch 20/20\n",
      "60000/60000 [==============================] - 35s 587us/step - loss: 0.0696 - acc: 0.9802\n"
     ]
    }
   ],
   "source": [
    "history = model.fit(x_train, y_train, epochs=20, shuffle='batch',batch_size=64)"
   ]
  },
  {
   "cell_type": "code",
   "execution_count": 9,
   "metadata": {},
   "outputs": [
    {
     "name": "stdout",
     "output_type": "stream",
     "text": [
      "10000/10000 [==============================] - 2s 173us/step\n"
     ]
    }
   ],
   "source": [
    "test_loss, test_accuracy = model.evaluate(x_test,y_test)"
   ]
  },
  {
   "cell_type": "code",
   "execution_count": 10,
   "metadata": {},
   "outputs": [
    {
     "name": "stdout",
     "output_type": "stream",
     "text": [
      "0.9734\n"
     ]
    }
   ],
   "source": [
    "print(test_accuracy)"
   ]
  },
  {
   "cell_type": "code",
   "execution_count": 11,
   "metadata": {},
   "outputs": [
    {
     "name": "stdout",
     "output_type": "stream",
     "text": [
      "0.08619801969407126\n"
     ]
    }
   ],
   "source": [
    "print(test_loss)"
   ]
  }
 ],
 "metadata": {
  "kernelspec": {
   "display_name": "Python 3",
   "language": "python",
   "name": "python3"
  },
  "language_info": {
   "codemirror_mode": {
    "name": "ipython",
    "version": 3
   },
   "file_extension": ".py",
   "mimetype": "text/x-python",
   "name": "python",
   "nbconvert_exporter": "python",
   "pygments_lexer": "ipython3",
   "version": "3.6.4"
  }
 },
 "nbformat": 4,
 "nbformat_minor": 2
}
