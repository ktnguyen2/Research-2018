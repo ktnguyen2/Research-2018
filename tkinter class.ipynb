{
 "cells": [
  {
   "cell_type": "code",
   "execution_count": 6,
   "metadata": {},
   "outputs": [],
   "source": [
    "from tkinter import *\n",
    "import os\n",
    "from PIL import ImageTk,Image"
   ]
  },
  {
   "cell_type": "code",
   "execution_count": null,
   "metadata": {},
   "outputs": [],
   "source": [
    "path = 'C:/Users/ktnng/Documents/SCU/2018 Research/GUI photos/Michelle Tokyo'\n",
    "\n",
    "in_width = 3000\n",
    "in_height = 2000\n",
    "scale = 0.1\n",
    "out_width = int(in_width * scale)\n",
    "out_height = int(in_height * scale)\n",
    "\n",
    "#out_width =\n",
    "#out_height =\n",
    "\n",
    "size = out_width, out_height"
   ]
  },
  {
   "cell_type": "code",
   "execution_count": null,
   "metadata": {},
   "outputs": [],
   "source": [
    "list = os.listdir(path)"
   ]
  },
  {
   "cell_type": "code",
   "execution_count": 13,
   "metadata": {},
   "outputs": [],
   "source": [
    "class App():\n",
    "    def __init__(self):\n",
    "        for x in list:    \n",
    "            self.root = Tk()\n",
    "            img = Image.open(path+'/'+x)\n",
    "            img = img.resize(size)\n",
    "    \n",
    "            # Shows image\n",
    "            img_show = ImageTk.PhotoImage(img)  \n",
    "            canvas = Canvas(root, width = out_width, height = out_height)  \n",
    "            canvas.pack()\n",
    "            canvas.create_image(0, 0, anchor=NW, image=img_show)\n",
    "\n",
    "            # Creates entry. Enter the class.\n",
    "            e = Entry(root)\n",
    "            e.pack()\n",
    "            e.focus_set()        \n",
    "\n",
    "            # Creates \"get\" button. Click to make directory.\n",
    "            b = Button(root, text=\"get\", width=10, command=lambda: callback(x,e.get()))\n",
    "            b.pack()\n",
    "            # call lambda because it acts as a link between Tkinter and callback\n",
    "            # Without lambda, Python will call the callback function before creating the widget, \n",
    "            # and pass the function’s return value to Tkinter. \n",
    "            # Tkinter then attempts to convert the return value to a string, \n",
    "            # and tells Tk to call a function with that name when the button is activated.\n",
    "\n",
    "            button = Button(self.root, text = 'root quit', command=self.quit)\n",
    "            button.pack()\n",
    "            \n",
    "            self.root.mainloop()\n",
    "    \n",
    "    def quit(self):\n",
    "       self.root.destroy()\n",
    "    \n",
    "    def callback(x,classes,root):\n",
    "       if not os.path.isdir(path+'/'+classes):\n",
    "           os.makedirs(path+'/'+classes)\n",
    "           img.save(path+'/'+classes+'/'+x) "
   ]
  },
  {
   "cell_type": "code",
   "execution_count": 14,
   "metadata": {},
   "outputs": [
    {
     "ename": "TypeError",
     "evalue": "'type' object is not iterable",
     "output_type": "error",
     "traceback": [
      "\u001b[1;31m---------------------------------------------------------------------------\u001b[0m",
      "\u001b[1;31mTypeError\u001b[0m                                 Traceback (most recent call last)",
      "\u001b[1;32m<ipython-input-14-91042f890017>\u001b[0m in \u001b[0;36m<module>\u001b[1;34m()\u001b[0m\n\u001b[1;32m----> 1\u001b[1;33m \u001b[0mapp\u001b[0m \u001b[1;33m=\u001b[0m \u001b[0mApp\u001b[0m\u001b[1;33m(\u001b[0m\u001b[1;33m)\u001b[0m\u001b[1;33m\u001b[0m\u001b[0m\n\u001b[0m",
      "\u001b[1;32m<ipython-input-13-973473745002>\u001b[0m in \u001b[0;36m__init__\u001b[1;34m(self)\u001b[0m\n\u001b[0;32m      1\u001b[0m \u001b[1;32mclass\u001b[0m \u001b[0mApp\u001b[0m\u001b[1;33m(\u001b[0m\u001b[1;33m)\u001b[0m\u001b[1;33m:\u001b[0m\u001b[1;33m\u001b[0m\u001b[0m\n\u001b[0;32m      2\u001b[0m     \u001b[1;32mdef\u001b[0m \u001b[0m__init__\u001b[0m\u001b[1;33m(\u001b[0m\u001b[0mself\u001b[0m\u001b[1;33m)\u001b[0m\u001b[1;33m:\u001b[0m\u001b[1;33m\u001b[0m\u001b[0m\n\u001b[1;32m----> 3\u001b[1;33m         \u001b[1;32mfor\u001b[0m \u001b[0mx\u001b[0m \u001b[1;32min\u001b[0m \u001b[0mlist\u001b[0m\u001b[1;33m:\u001b[0m\u001b[1;33m\u001b[0m\u001b[0m\n\u001b[0m\u001b[0;32m      4\u001b[0m             \u001b[0mself\u001b[0m\u001b[1;33m.\u001b[0m\u001b[0mroot\u001b[0m \u001b[1;33m=\u001b[0m \u001b[0mTk\u001b[0m\u001b[1;33m(\u001b[0m\u001b[1;33m)\u001b[0m\u001b[1;33m\u001b[0m\u001b[0m\n\u001b[0;32m      5\u001b[0m             \u001b[0mimg\u001b[0m \u001b[1;33m=\u001b[0m \u001b[0mImage\u001b[0m\u001b[1;33m.\u001b[0m\u001b[0mopen\u001b[0m\u001b[1;33m(\u001b[0m\u001b[0mpath\u001b[0m\u001b[1;33m+\u001b[0m\u001b[1;34m'/'\u001b[0m\u001b[1;33m+\u001b[0m\u001b[0mx\u001b[0m\u001b[1;33m)\u001b[0m\u001b[1;33m\u001b[0m\u001b[0m\n",
      "\u001b[1;31mTypeError\u001b[0m: 'type' object is not iterable"
     ]
    }
   ],
   "source": [
    "app = App()"
   ]
  }
 ],
 "metadata": {
  "kernelspec": {
   "display_name": "Python 3",
   "language": "python",
   "name": "python3"
  },
  "language_info": {
   "codemirror_mode": {
    "name": "ipython",
    "version": 3
   },
   "file_extension": ".py",
   "mimetype": "text/x-python",
   "name": "python",
   "nbconvert_exporter": "python",
   "pygments_lexer": "ipython3",
   "version": "3.6.4"
  }
 },
 "nbformat": 4,
 "nbformat_minor": 2
}
