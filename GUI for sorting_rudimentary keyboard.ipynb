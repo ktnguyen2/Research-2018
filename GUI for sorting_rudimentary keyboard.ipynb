{
 "cells": [
  {
   "cell_type": "markdown",
   "metadata": {},
   "source": [
    "GUI for sorting images into classes. Useful for CNNs. \n",
    "\n",
    "* Click \"get\" to close window and access next picture\n",
    "* Cannot move back and forth between images"
   ]
  },
  {
   "cell_type": "code",
   "execution_count": 1,
   "metadata": {},
   "outputs": [],
   "source": [
    "from tkinter import *  \n",
    "import os\n",
    "from PIL import ImageTk,Image"
   ]
  },
  {
   "cell_type": "code",
   "execution_count": 2,
   "metadata": {},
   "outputs": [],
   "source": [
    "#path = 'Users\\ktnng\\Documents\\SCU\\\\2018 Research\\GUI photos'\n",
    "#path = str(path).replace('\\\\','/')\n",
    "#path = \"C:/\" + path\n",
    "#print(path)\n",
    "\n",
    "path = 'C:/Users/ktnng/Documents/SCU/2018 Research/Test'"
   ]
  },
  {
   "cell_type": "code",
   "execution_count": 3,
   "metadata": {},
   "outputs": [],
   "source": [
    "in_width = 3000\n",
    "in_height = 2000\n",
    "scale = 0.1\n",
    "out_width = int(in_width * scale)\n",
    "out_height = int(in_height * scale)\n",
    "\n",
    "#out_width =\n",
    "#out_height =\n",
    "\n",
    "size = out_width, out_height"
   ]
  },
  {
   "cell_type": "code",
   "execution_count": 25,
   "metadata": {},
   "outputs": [],
   "source": [
    "# Saves image in labeled folder\n",
    "def callback(x,classes):\n",
    "    print(\"test\")\n",
    "    if not os.path.isdir(path+'/'+classes):\n",
    "        os.makedirs(path+'/'+classes)\n",
    "        img.save(path+'/'+classes+'/'+x) \n",
    "    \n",
    "def enter(event):\n",
    "    return\n",
    "\n",
    "def quit(event):\n",
    "    num = repr(event.keycode)\n",
    "    print(num)\n",
    "    if (num == 13):\n",
    "        print(\"Label submitted\")\n",
    "        root.destroy()"
   ]
  },
  {
   "cell_type": "code",
   "execution_count": 27,
   "metadata": {},
   "outputs": [
    {
     "name": "stdout",
     "output_type": "stream",
     "text": [
      "test\n",
      "'??'\n",
      "'??'\n",
      "'??'\n",
      "Done!\n"
     ]
    }
   ],
   "source": [
    "list = os.listdir(path)\n",
    "\n",
    "for x in list:    \n",
    "    root = Tk()  \n",
    "    \n",
    "    # Opens image\n",
    "    img = Image.open(path+'/'+x)\n",
    "    img = img.resize(size)\n",
    "    \n",
    "    # Shows image\n",
    "    img_show = ImageTk.PhotoImage(img)  \n",
    "    canvas = Canvas(root, width = out_width, height = out_height)  \n",
    "    canvas.pack()\n",
    "    canvas.create_image(0, 0, anchor=NW, image=img_show)\n",
    "    \n",
    "    # Creates entry. Enter the class.\n",
    "    e = Entry(root)\n",
    "    e.pack()\n",
    "    e.focus_set()\n",
    "    callback(x,e.get())\n",
    "    \n",
    "    frame = Frame(root, width=out_width, height=out_height)\n",
    "    frame.bind(\"<Enter>\", quit)\n",
    "    frame.bind(\"<Key>\", quit)\n",
    "    frame.pack()\n",
    "    \n",
    "    root.mainloop()\n",
    "\n",
    "print(\"Done!\")"
   ]
  },
  {
   "cell_type": "code",
   "execution_count": null,
   "metadata": {},
   "outputs": [],
   "source": []
  }
 ],
 "metadata": {
  "kernelspec": {
   "display_name": "Python 3",
   "language": "python",
   "name": "python3"
  },
  "language_info": {
   "codemirror_mode": {
    "name": "ipython",
    "version": 3
   },
   "file_extension": ".py",
   "mimetype": "text/x-python",
   "name": "python",
   "nbconvert_exporter": "python",
   "pygments_lexer": "ipython3",
   "version": "3.6.4"
  }
 },
 "nbformat": 4,
 "nbformat_minor": 2
}
