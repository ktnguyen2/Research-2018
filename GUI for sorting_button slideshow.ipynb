{
 "cells": [
  {
   "cell_type": "markdown",
   "metadata": {},
   "source": [
    "GUI for image slideshow"
   ]
  },
  {
   "cell_type": "code",
   "execution_count": 1,
   "metadata": {},
   "outputs": [],
   "source": [
    "from tkinter import *  \n",
    "import os\n",
    "from PIL import ImageTk,Image"
   ]
  },
  {
   "cell_type": "code",
   "execution_count": 2,
   "metadata": {},
   "outputs": [],
   "source": [
    "#path = 'Users\\ktnng\\Documents\\SCU\\\\2018 Research\\GUI photos'\n",
    "#path = str(path).replace('\\\\','/')\n",
    "#path = \"C:/\" + path\n",
    "#print(path)\n",
    "\n",
    "path = 'C:/Users/ktnng/Documents/SCU/2018 Research/Test'"
   ]
  },
  {
   "cell_type": "code",
   "execution_count": 3,
   "metadata": {},
   "outputs": [],
   "source": [
    "in_width = 3000\n",
    "in_height = 2000\n",
    "scale = 0.1\n",
    "out_width = int(in_width * scale)\n",
    "out_height = int(in_height * scale)\n",
    "\n",
    "#out_width = 900\n",
    "#out_height = 600\n",
    "size = out_width, out_height"
   ]
  },
  {
   "cell_type": "code",
   "execution_count": 4,
   "metadata": {},
   "outputs": [],
   "source": [
    "def callback():\n",
    "    print (e.get())\n",
    "\n",
    "def right():\n",
    "    #print (\"test Right\")\n",
    "    global counter\n",
    "    counter+=1\n",
    "    print(counter)\n",
    "    return\n",
    "\n",
    "def enter(event):\n",
    "    frame.focus_set()\n",
    "    string = repr(event.keycode)\n",
    "    if (string == \"39\"):\n",
    "        print(\"pressed right\")\n",
    "        right()\n",
    "    return"
   ]
  },
  {
   "cell_type": "code",
   "execution_count": 5,
   "metadata": {},
   "outputs": [
    {
     "name": "stdout",
     "output_type": "stream",
     "text": [
      "Bratan Lake, Indonesia.jpg\n",
      "pressed right\n",
      "1\n",
      "pressed right\n",
      "2\n",
      "pressed right\n",
      "3\n",
      "pressed right\n",
      "4\n",
      "Bratan Lake, Indonesia.jpg\n"
     ]
    },
    {
     "ename": "TclError",
     "evalue": "can't invoke \"update\" command: application has been destroyed",
     "output_type": "error",
     "traceback": [
      "\u001b[1;31m---------------------------------------------------------------------------\u001b[0m",
      "\u001b[1;31mTclError\u001b[0m                                  Traceback (most recent call last)",
      "\u001b[1;32m<ipython-input-5-c95caa3efbf3>\u001b[0m in \u001b[0;36m<module>\u001b[1;34m()\u001b[0m\n\u001b[0;32m      6\u001b[0m \u001b[1;32mwhile\u001b[0m \u001b[1;33m(\u001b[0m\u001b[1;36m1\u001b[0m\u001b[1;33m)\u001b[0m\u001b[1;33m:\u001b[0m\u001b[1;33m\u001b[0m\u001b[0m\n\u001b[0;32m      7\u001b[0m     \u001b[0mprint\u001b[0m\u001b[1;33m(\u001b[0m\u001b[0mlist\u001b[0m\u001b[1;33m[\u001b[0m\u001b[0mcounter\u001b[0m\u001b[1;33m%\u001b[0m\u001b[0mlen\u001b[0m\u001b[1;33m(\u001b[0m\u001b[0mlist\u001b[0m\u001b[1;33m)\u001b[0m\u001b[1;33m]\u001b[0m\u001b[1;33m)\u001b[0m\u001b[1;33m\u001b[0m\u001b[0m\n\u001b[1;32m----> 8\u001b[1;33m     \u001b[0mroot\u001b[0m\u001b[1;33m.\u001b[0m\u001b[0mupdate_idletasks\u001b[0m\u001b[1;33m(\u001b[0m\u001b[1;33m)\u001b[0m\u001b[1;33m\u001b[0m\u001b[0m\n\u001b[0m\u001b[0;32m      9\u001b[0m     \u001b[0mcanvas\u001b[0m \u001b[1;33m=\u001b[0m \u001b[0mCanvas\u001b[0m\u001b[1;33m(\u001b[0m\u001b[0mroot\u001b[0m\u001b[1;33m,\u001b[0m \u001b[0mwidth\u001b[0m \u001b[1;33m=\u001b[0m \u001b[0mout_width\u001b[0m\u001b[1;33m,\u001b[0m \u001b[0mheight\u001b[0m \u001b[1;33m=\u001b[0m \u001b[0mout_height\u001b[0m\u001b[1;33m)\u001b[0m\u001b[1;33m\u001b[0m\u001b[0m\n\u001b[0;32m     10\u001b[0m     \u001b[0mcanvas\u001b[0m\u001b[1;33m.\u001b[0m\u001b[0mpack\u001b[0m\u001b[1;33m(\u001b[0m\u001b[1;33m)\u001b[0m\u001b[1;33m\u001b[0m\u001b[0m\n",
      "\u001b[1;32m~\\Anaconda3\\lib\\tkinter\\__init__.py\u001b[0m in \u001b[0;36mupdate_idletasks\u001b[1;34m(self)\u001b[0m\n\u001b[0;32m   1174\u001b[0m         \u001b[0mwill\u001b[0m \u001b[0mupdate\u001b[0m \u001b[0mthe\u001b[0m \u001b[0mdisplay\u001b[0m \u001b[0mof\u001b[0m \u001b[0mwindows\u001b[0m \u001b[0mbut\u001b[0m \u001b[1;32mnot\u001b[0m \u001b[0mprocess\u001b[0m \u001b[0mevents\u001b[0m \u001b[0mcaused\u001b[0m \u001b[0mby\u001b[0m\u001b[1;33m\u001b[0m\u001b[0m\n\u001b[0;32m   1175\u001b[0m         the user.\"\"\"\n\u001b[1;32m-> 1176\u001b[1;33m         \u001b[0mself\u001b[0m\u001b[1;33m.\u001b[0m\u001b[0mtk\u001b[0m\u001b[1;33m.\u001b[0m\u001b[0mcall\u001b[0m\u001b[1;33m(\u001b[0m\u001b[1;34m'update'\u001b[0m\u001b[1;33m,\u001b[0m \u001b[1;34m'idletasks'\u001b[0m\u001b[1;33m)\u001b[0m\u001b[1;33m\u001b[0m\u001b[0m\n\u001b[0m\u001b[0;32m   1177\u001b[0m     \u001b[1;32mdef\u001b[0m \u001b[0mbindtags\u001b[0m\u001b[1;33m(\u001b[0m\u001b[0mself\u001b[0m\u001b[1;33m,\u001b[0m \u001b[0mtagList\u001b[0m\u001b[1;33m=\u001b[0m\u001b[1;32mNone\u001b[0m\u001b[1;33m)\u001b[0m\u001b[1;33m:\u001b[0m\u001b[1;33m\u001b[0m\u001b[0m\n\u001b[0;32m   1178\u001b[0m         \"\"\"Set or get the list of bindtags for this widget.\n",
      "\u001b[1;31mTclError\u001b[0m: can't invoke \"update\" command: application has been destroyed"
     ]
    }
   ],
   "source": [
    "list = os.listdir(path)\n",
    "\n",
    "root = Tk()\n",
    "counter = 0\n",
    "\n",
    "while (1):\n",
    "    print(list[counter%len(list)])\n",
    "    canvas = Canvas(root, width = out_width, height = out_height)  \n",
    "    canvas.pack()\n",
    "    img = Image.open(path+'/'+list[counter%len(list)]) \n",
    "    img = img.resize(size) \n",
    "    img = ImageTk.PhotoImage(img)  \n",
    "    canvas.create_image(0, 0, anchor=NW, image=img)\n",
    "    \n",
    "    # Creates entry for words\n",
    "    #e = Entry(root)\n",
    "    #e.pack()\n",
    "    #e.focus_set()\n",
    "    \n",
    "    # Creates button for \"get\"\n",
    "    #b = Button(root, text=\"get\", width=10, command=callback)\n",
    "    #b.pack()\n",
    "    \n",
    "    frame = Frame(root, width=out_width, height=out_height)\n",
    "    frame.bind(\"<Button-1>\", enter)\n",
    "    frame.bind(\"<Key>\", enter)\n",
    "    root.update_idletasks()\n",
    "    frame.pack()\n",
    "    \n",
    "    # Creates button for quitting out of the program    \n",
    "    quit = Button(root, text=\"quit\", width=10, command=root.destroy)\n",
    "    quit.pack()\n",
    "        \n",
    "    root.mainloop()    "
   ]
  }
 ],
 "metadata": {
  "kernelspec": {
   "display_name": "Python 3",
   "language": "python",
   "name": "python3"
  },
  "language_info": {
   "codemirror_mode": {
    "name": "ipython",
    "version": 3
   },
   "file_extension": ".py",
   "mimetype": "text/x-python",
   "name": "python",
   "nbconvert_exporter": "python",
   "pygments_lexer": "ipython3",
   "version": "3.6.4"
  }
 },
 "nbformat": 4,
 "nbformat_minor": 2
}
