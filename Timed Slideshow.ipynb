{
 "cells": [
  {
   "cell_type": "markdown",
   "metadata": {},
   "source": [
    "* Timed slideshow using Tkinter\n",
    "* Modified to show PIL images in addition to gifs\n",
    "* Source Code: https://www.daniweb.com/programming/software-development/code/468841/tkinter-image-slide-show-python\n",
    "\n",
    "* Cannot open more than one jpg "
   ]
  },
  {
   "cell_type": "code",
   "execution_count": 1,
   "metadata": {},
   "outputs": [],
   "source": [
    "from itertools import cycle\n",
    "from PIL import Image, ImageTk\n",
    "import io\n",
    "import os"
   ]
  },
  {
   "cell_type": "code",
   "execution_count": 2,
   "metadata": {},
   "outputs": [],
   "source": [
    "# Directory path\n",
    "#path = 'C:/Users/ktnng/Documents/SCU/2018 Research/GUI photos/Michelle Tokyo'\n",
    "path = 'C:/Users/ktnng/Documents/SCU/2018 Research/Test'\n",
    "image_files = os.listdir(path)"
   ]
  },
  {
   "cell_type": "code",
   "execution_count": 3,
   "metadata": {
    "scrolled": true
   },
   "outputs": [
    {
     "name": "stderr",
     "output_type": "stream",
     "text": [
      "Exception in Tkinter callback\n",
      "Traceback (most recent call last):\n",
      "  File \"C:\\Users\\ktnng\\Anaconda3\\lib\\tkinter\\__init__.py\", line 1699, in __call__\n",
      "    return self.func(*args)\n",
      "  File \"C:\\Users\\ktnng\\Anaconda3\\lib\\tkinter\\__init__.py\", line 745, in callit\n",
      "    func(*args)\n",
      "  File \"<ipython-input-3-f78649dae346>\", line 32, in show_slides\n",
      "    img_object, img_name = next(self.pictures)\n",
      "  File \"<ipython-input-3-f78649dae346>\", line 24, in <genexpr>\n",
      "    for image in image_files) # img_name\n",
      "  File \"<ipython-input-3-f78649dae346>\", line 46, in photo_image\n",
      "    with io.open(jpg_filename, 'rb') as ifh:\n",
      "FileNotFoundError: [Errno 2] No such file or directory: 'Mahalangur, Nepal.jpg'\n"
     ]
    }
   ],
   "source": [
    "try:\n",
    "    # Python2\n",
    "    import Tkinter as tk\n",
    "except ImportError:\n",
    "    # Python3\n",
    "    import tkinter as tk\n",
    "    \n",
    "class App(tk.Tk):\n",
    "    # Tk window/label adjusts to size of image'\n",
    "    def __init__(self, image_files, x, y, delay):\n",
    "        \n",
    "        # the root will be self\n",
    "        tk.Tk.__init__(self)\n",
    "        \n",
    "        # set x, y position only\n",
    "        self.geometry('+{}+{}'.format(x, y))\n",
    "        \n",
    "        # sets delay time\n",
    "        self.delay = delay\n",
    "        \n",
    "        # allows repeat cycling through the pictures\n",
    "        # store as (img_object, img_name) tuple\n",
    "        self.pictures = cycle( (self.photo_image(image), image) # img_object\n",
    "                              for image in image_files) # img_name\n",
    "        \n",
    "        # Displays name of picture\n",
    "        self.picture_display = tk.Label(self)\n",
    "        self.picture_display.pack()\n",
    "    \n",
    "    # cycle through the images and show them     \n",
    "    def show_slides(self):\n",
    "        img_object, img_name = next(self.pictures)\n",
    "        # next() is used when a file is used as an iterator, \n",
    "        # typically in a loop, the next() method is called repeatedly.\n",
    "        # self.pictures cycles\n",
    "        \n",
    "        self.picture_display.config(image=img_object)\n",
    "        \n",
    "        # shows the image filename, but could be expanded\n",
    "        # to show an associated description of the image\n",
    "        self.title(img_name)\n",
    "        self.after(self.delay, self.show_slides)\n",
    "    \n",
    "    # Open jpg files\n",
    "    def photo_image(self, jpg_filename):\n",
    "        with io.open(jpg_filename, 'rb') as ifh:\n",
    "            pil_image = Image.open(ifh)\n",
    "            return ImageTk.PhotoImage(pil_image)\n",
    "    \n",
    "    def run(self):\n",
    "        self.mainloop()\n",
    "        \n",
    "# set milliseconds time between slides\n",
    "delay = 3500\n",
    "\n",
    "# upper left corner coordinates of app window\n",
    "x = 100\n",
    "y = 50\n",
    "\n",
    "# Run application\n",
    "app = App(image_files, x, y, delay)\n",
    "app.show_slides()\n",
    "app.run()"
   ]
  }
 ],
 "metadata": {
  "kernelspec": {
   "display_name": "Python 3",
   "language": "python",
   "name": "python3"
  },
  "language_info": {
   "codemirror_mode": {
    "name": "ipython",
    "version": 3
   },
   "file_extension": ".py",
   "mimetype": "text/x-python",
   "name": "python",
   "nbconvert_exporter": "python",
   "pygments_lexer": "ipython3",
   "version": "3.6.4"
  }
 },
 "nbformat": 4,
 "nbformat_minor": 2
}
