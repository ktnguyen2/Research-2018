{
 "cells": [
  {
   "cell_type": "code",
   "execution_count": 6,
   "metadata": {
    "scrolled": false
   },
   "outputs": [],
   "source": [
    "import os\n",
    "from PIL import Image\n",
    "import random"
   ]
  },
  {
   "cell_type": "code",
   "execution_count": 7,
   "metadata": {},
   "outputs": [],
   "source": [
    "TRAIN_PER = 80\n",
    "TEST_PER = 10\n",
    "VAL_PER = 10 \n",
    "\n",
    "out_width = 224\n",
    "out_height = 224\n",
    "size = out_width, out_height"
   ]
  },
  {
   "cell_type": "code",
   "execution_count": 8,
   "metadata": {},
   "outputs": [],
   "source": [
    "input_path = 'C:/Users/ktnng/Documents/SCU/2018 Research'\n",
    "\n",
    "output_path = input_path+'/Training Data'+' 9.6.18'\n",
    "if not os.path.isdir(output_path):\n",
    "    os.makedirs(output_path) "
   ]
  },
  {
   "cell_type": "code",
   "execution_count": 9,
   "metadata": {},
   "outputs": [],
   "source": [
    "classes = ['Bird', 'Flower']"
   ]
  },
  {
   "cell_type": "code",
   "execution_count": 10,
   "metadata": {},
   "outputs": [
    {
     "name": "stdout",
     "output_type": "stream",
     "text": [
      "Bird done!\n",
      "Flower done!\n"
     ]
    }
   ],
   "source": [
    "for class_ in classes: \n",
    "    list = os.listdir(input_path+\"/\"+class_) \n",
    "    random.shuffle(list)\n",
    "    \n",
    "    total_images = len(list)\n",
    "    train_number = int(TRAIN_PER/100 * total_images)\n",
    "    test_number = int(TEST_PER/100 * total_images)\n",
    "    val_number = int(VAL_PER/100 * total_images)\n",
    "\n",
    "    train_counter = 0\n",
    "    test_counter = 0\n",
    "    val_counter = 0\n",
    "    \n",
    "    for i in (list): \n",
    "        img = Image.open(input_path+\"/\"+class_+\"/\"+i)\n",
    "        img = img.resize(size,Image.LANCZOS)\n",
    "        dst = i.split('/')[-1] \n",
    "    \n",
    "        if not os.path.isdir(output_path+'/training/'+class_):\n",
    "            os.makedirs(output_path+'/training/'+class_)\n",
    "\n",
    "        if not os.path.isdir(output_path+'/test/'+class_):\n",
    "            os.makedirs(output_path+'/test/'+class_)\n",
    "            \n",
    "        if not os.path.isdir(output_path+'/val/'+class_):\n",
    "            os.makedirs(output_path+'/val/'+class_)\n",
    "\n",
    "        if train_counter < train_number:\n",
    "            img.save(output_path+\"/training/\"+class_+\"/\"+dst)\n",
    "            train_counter+=1\n",
    "\n",
    "        if test_counter < test_number:\n",
    "            img.save(output_path+\"/test/\"+class_+\"/\"+dst) \n",
    "            test_counter+=1\n",
    "            \n",
    "        if val_counter < val_number:\n",
    "            img.save(output_path+\"/val/\"+class_+\"/\"+dst)\n",
    "            val_counter+=1\n",
    "    \n",
    "    print(class_,\"done!\")\n"
   ]
  },
  {
   "cell_type": "code",
   "execution_count": null,
   "metadata": {},
   "outputs": [],
   "source": []
  }
 ],
 "metadata": {
  "kernelspec": {
   "display_name": "Python 3",
   "language": "python",
   "name": "python3"
  },
  "language_info": {
   "codemirror_mode": {
    "name": "ipython",
    "version": 3
   },
   "file_extension": ".py",
   "mimetype": "text/x-python",
   "name": "python",
   "nbconvert_exporter": "python",
   "pygments_lexer": "ipython3",
   "version": "3.6.4"
  }
 },
 "nbformat": 4,
 "nbformat_minor": 2
}
