{
 "cells": [
  {
   "cell_type": "code",
   "execution_count": 2,
   "metadata": {},
   "outputs": [
    {
     "data": {
      "text/plain": [
       "'C:\\\\Users\\\\ktnng\\\\Documents\\\\SCU\\\\2018 Research'"
      ]
     },
     "execution_count": 2,
     "metadata": {},
     "output_type": "execute_result"
    }
   ],
   "source": [
    "import os\n",
    "\n",
    "os.path.abspath('.')"
   ]
  },
  {
   "cell_type": "code",
   "execution_count": 3,
   "metadata": {},
   "outputs": [],
   "source": [
    "path = os.path.abspath('.')"
   ]
  },
  {
   "cell_type": "code",
   "execution_count": 4,
   "metadata": {},
   "outputs": [],
   "source": [
    "os.chdir(path + '\\Data')\n",
    "# Changes directory"
   ]
  },
  {
   "cell_type": "code",
   "execution_count": 5,
   "metadata": {},
   "outputs": [
    {
     "data": {
      "text/plain": [
       "'C:\\\\Users\\\\ktnng\\\\Documents\\\\SCU\\\\2018 Research\\\\Data'"
      ]
     },
     "execution_count": 5,
     "metadata": {},
     "output_type": "execute_result"
    }
   ],
   "source": [
    "os.path.abspath('.')"
   ]
  },
  {
   "cell_type": "code",
   "execution_count": 3,
   "metadata": {},
   "outputs": [
    {
     "data": {
      "text/plain": [
       "['.ipynb_checkpoints',\n",
       " '01_linear_regression.ipynb',\n",
       " '02_tensorflow_logistic_regression.ipynb',\n",
       " '03_tensorflow_deep_network.ipynb',\n",
       " '05_mnist_cnn.ipynb',\n",
       " 'Bird',\n",
       " 'CNN with CIFAR10.ipynb',\n",
       " 'Coding Exercise 2 (Amritpal).ipynb',\n",
       " 'Coding Exercise 2-Copy1.ipynb',\n",
       " 'Coding Exercise 2.ipynb',\n",
       " 'Demystifying Deep Neural Networks.ipynb',\n",
       " 'Flickr get images.ipynb',\n",
       " 'Flower',\n",
       " 'Frodo-master',\n",
       " 'Images_mod',\n",
       " 'keras.ipynb',\n",
       " 'Make dataset.ipynb',\n",
       " 'Make dataset_Clean Version.ipynb',\n",
       " 'Make dataset_Kristi.ipynb',\n",
       " 'Make dataset_Kristi_fix1.ipynb',\n",
       " 'MNIST_data',\n",
       " 'ORIG_03_tensorflow_deep_network.ipynb',\n",
       " 'os library.ipynb',\n",
       " 'TensorFlow Notes Pt 1.ipynb',\n",
       " 'TensorFlow Notes Pt. II.ipynb',\n",
       " 'TensorFlow Notes Pt. III.ipynb',\n",
       " 'TensorFlow Notes Pt. IV.ipynb',\n",
       " 'tensorflow.pdf',\n",
       " 'training data',\n",
       " 'Untitled.ipynb',\n",
       " 'vgg16 bird flower.ipynb',\n",
       " 'vgg16_on_flickr_dataset.py']"
      ]
     },
     "execution_count": 3,
     "metadata": {},
     "output_type": "execute_result"
    }
   ],
   "source": [
    "os.listdir('.')"
   ]
  }
 ],
 "metadata": {
  "kernelspec": {
   "display_name": "Python 3",
   "language": "python",
   "name": "python3"
  },
  "language_info": {
   "codemirror_mode": {
    "name": "ipython",
    "version": 3
   },
   "file_extension": ".py",
   "mimetype": "text/x-python",
   "name": "python",
   "nbconvert_exporter": "python",
   "pygments_lexer": "ipython3",
   "version": "3.6.4"
  }
 },
 "nbformat": 4,
 "nbformat_minor": 2
}
