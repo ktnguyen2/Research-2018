{
 "cells": [
  {
   "cell_type": "markdown",
   "metadata": {},
   "source": [
    "#### MNIST training with diffrent hidden layer size\n",
    "\n",
    "In this exercise we will see how the hidden layer size affects on the test accuracy and test loss of a MNIST  Deep Neural Network classifier.\n",
    "\n",
    "Use matplotlib to plot the test accuracy vs sizes and test loss vs sizes\n",
    "\n",
    "You should be able to complete this using the MNIST classifier we built in the last meeting."
   ]
  },
  {
   "cell_type": "code",
   "execution_count": 8,
   "metadata": {},
   "outputs": [],
   "source": [
    "# import functions\n",
    "import keras\n",
    "import matplotlib.pyplot as plt\n",
    "from keras.layers import Dense, Flatten, Reshape\n",
    "from keras.models import Model\n",
    "from keras.models import Sequential\n",
    "from keras.datasets import mnist\n",
    "from keras.utils import to_categorical"
   ]
  },
  {
   "cell_type": "code",
   "execution_count": 9,
   "metadata": {},
   "outputs": [],
   "source": [
    "# write a function to construct model with hidden layer defined by the size function\n",
    "def make_model(size):\n",
    "    model = Sequential()\n",
    "    model.add(Reshape((784,), input_shape=(28,28)))\n",
    "    #Add code here\n",
    "    \n",
    "    for i in range(1, size + 1):\n",
    "        model.add(Dense(256, activation = 'relu')) # Hidden layer (for classification, usually use relu)\n",
    "        \n",
    "    model.add(Dense(10, activation = 'softmax')) # Output layer (for classification, usually use softmax)\n",
    "    \n",
    "    return model"
   ]
  },
  {
   "cell_type": "code",
   "execution_count": 10,
   "metadata": {},
   "outputs": [],
   "source": [
    "sizes = [1] # create a list of sizes you want to experiment with\n",
    "test_loss = [] # create array to store  test loss \n",
    "test_accuracy = [] # create array to store test accuracy"
   ]
  },
  {
   "cell_type": "code",
   "execution_count": 11,
   "metadata": {},
   "outputs": [],
   "source": [
    "# load MNIST data\n",
    "# convert the range of values of train and test images from 0 to 255 to 0 to 1\n",
    "# use to_categorical to convert integer labels to logits\n",
    "(x_train, y_train), (x_test, y_test) = mnist.load_data()\n",
    "\n",
    "# Scale pixel values (0 to 255) to (0 to 1)\n",
    "x_train = x_train.astype('float32')/255\n",
    "x_test = x_test.astype('float32')/255\n",
    "\n",
    "# Convert integer labels to logits or one hot bit\n",
    "y_train = to_categorical(y_train)\n",
    "y_test = to_categorical(y_test)"
   ]
  },
  {
   "cell_type": "code",
   "execution_count": 12,
   "metadata": {},
   "outputs": [
    {
     "name": "stdout",
     "output_type": "stream",
     "text": [
      "Epoch 1/1\n",
      "60000/60000 [==============================] - 6s 97us/step - loss: 0.8223 - acc: 0.8046\n",
      "10000/10000 [==============================] - 1s 60us/step\n"
     ]
    }
   ],
   "source": [
    "for size in sizes:\n",
    "    my_model = make_model(size)\n",
    "    my_model.compile(optimizer='sgd', loss='categorical_crossentropy', metrics=['accuracy'])\n",
    "    history = my_model.fit(x_train, y_train, epochs = 1, shuffle = 'batch', batch_size = 64)\n",
    "    t_loss, t_accuracy = my_model.evaluate(x_test, y_test)\n",
    "    test_loss.append(t_loss)\n",
    "    test_accuracy.append(t_accuracy)\n",
    "    # compile model  with optimizer='sgd' loss='categorical_crossentropy'  metrics=['accuracy'])\n",
    "    # fit model with  epochs=10, batch_size=64\n",
    "    # evaluate model to get test loss and test accuracy\n",
    "    # append the test loss and test accuracy to the arrays we created earlier"
   ]
  },
  {
   "cell_type": "code",
   "execution_count": 13,
   "metadata": {},
   "outputs": [
    {
     "name": "stderr",
     "output_type": "stream",
     "text": [
      "C:\\Users\\ktnng\\Anaconda3\\lib\\site-packages\\matplotlib\\axes\\_base.py:2961: UserWarning: Attempting to set identical left==right results\n",
      "in singular transformations; automatically expanding.\n",
      "left=1.0, right=1.0\n",
      "  'left=%s, right=%s') % (left, right))\n"
     ]
    },
    {
     "data": {
      "text/plain": [
       "[<matplotlib.lines.Line2D at 0x25f16aa78d0>]"
      ]
     },
     "execution_count": 13,
     "metadata": {},
     "output_type": "execute_result"
    },
    {
     "data": {
      "image/png": "[encoded data removed]",
      "text/plain": [
       "<matplotlib.figure.Figure at 0x25f167f14e0>"
      ]
     },
     "metadata": {},
     "output_type": "display_data"
    }
   ],
   "source": [
    "plt.figure()\n",
    "plt.xscale('log', basex=2)\n",
    "plt.ylabel('Test Accuracy')\n",
    "plt.xlabel('Hidden layer size')\n",
    "plt.plot(sizes, test_accuracy, 'ro')"
   ]
  },
  {
   "cell_type": "code",
   "execution_count": 14,
   "metadata": {},
   "outputs": [
    {
     "name": "stderr",
     "output_type": "stream",
     "text": [
      "C:\\Users\\ktnng\\Anaconda3\\lib\\site-packages\\matplotlib\\axes\\_base.py:2961: UserWarning: Attempting to set identical left==right results\n",
      "in singular transformations; automatically expanding.\n",
      "left=1.0, right=1.0\n",
      "  'left=%s, right=%s') % (left, right))\n"
     ]
    },
    {
     "data": {
      "text/plain": [
       "[<matplotlib.lines.Line2D at 0x25f17bce898>]"
      ]
     },
     "execution_count": 14,
     "metadata": {},
     "output_type": "execute_result"
    },
    {
     "data": {
      "image/png": "[encoded data removed]",
      "text/plain": [
       "<matplotlib.figure.Figure at 0x25f167f12e8>"
      ]
     },
     "metadata": {},
     "output_type": "display_data"
    }
   ],
   "source": [
    "plt.figure()\n",
    "plt.xscale('log', basex=2)\n",
    "plt.ylabel('Test Loss')\n",
    "plt.xlabel('Hidden layer size')\n",
    "plt.plot(sizes, test_loss, 'ro')"
   ]
  },
  {
   "cell_type": "code",
   "execution_count": null,
   "metadata": {},
   "outputs": [],
   "source": []
  }
 ],
 "metadata": {
  "kernelspec": {
   "display_name": "Python 3",
   "language": "python",
   "name": "python3"
  },
  "language_info": {
   "codemirror_mode": {
    "name": "ipython",
    "version": 3
   },
   "file_extension": ".py",
   "mimetype": "text/x-python",
   "name": "python",
   "nbconvert_exporter": "python",
   "pygments_lexer": "ipython3",
   "version": "3.6.4"
  }
 },
 "nbformat": 4,
 "nbformat_minor": 2
}
