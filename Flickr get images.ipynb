{
 "cells": [
  {
   "cell_type": "code",
   "execution_count": 16,
   "metadata": {},
   "outputs": [
    {
     "ename": "OSError",
     "evalue": "[WinError 123] The filename, directory name, or volume label syntax is incorrect: 'C:\\\\Users\\\\ktnng\\\\Documents\\\\SCU\\\\2018 Research\\\\Images_mod\\\\Images_mod2018-08-29-14:26:05\\\\'",
     "output_type": "error",
     "traceback": [
      "\u001b[1;31m---------------------------------------------------------------------------\u001b[0m",
      "\u001b[1;31mOSError\u001b[0m                                   Traceback (most recent call last)",
      "\u001b[1;32m<ipython-input-16-c4d974179b11>\u001b[0m in \u001b[0;36m<module>\u001b[1;34m()\u001b[0m\n\u001b[0;32m     61\u001b[0m \u001b[1;33m\u001b[0m\u001b[0m\n\u001b[0;32m     62\u001b[0m \u001b[1;31m# Make the path directory\u001b[0m\u001b[1;33m\u001b[0m\u001b[1;33m\u001b[0m\u001b[0m\n\u001b[1;32m---> 63\u001b[1;33m \u001b[0mmkdir\u001b[0m\u001b[1;33m(\u001b[0m\u001b[0mpath\u001b[0m\u001b[1;33m)\u001b[0m\u001b[1;33m\u001b[0m\u001b[0m\n\u001b[0m\u001b[0;32m     64\u001b[0m \u001b[1;31m# Make dirs for individual classes\u001b[0m\u001b[1;33m\u001b[0m\u001b[1;33m\u001b[0m\u001b[0m\n\u001b[0;32m     65\u001b[0m \u001b[0mmake_dirs\u001b[0m\u001b[1;33m(\u001b[0m\u001b[0msets\u001b[0m\u001b[1;33m,\u001b[0m \u001b[0mclasses\u001b[0m\u001b[1;33m)\u001b[0m\u001b[1;33m\u001b[0m\u001b[0m\n",
      "\u001b[1;31mOSError\u001b[0m: [WinError 123] The filename, directory name, or volume label syntax is incorrect: 'C:\\\\Users\\\\ktnng\\\\Documents\\\\SCU\\\\2018 Research\\\\Images_mod\\\\Images_mod2018-08-29-14:26:05\\\\'"
     ]
    }
   ],
   "source": [
    "\n",
    "# coding: utf-8\n",
    "\n",
    "import flickrapi\n",
    "import urllib.request\n",
    "import datetime\n",
    "import os\n",
    "\n",
    "#API key and secret for flickr APIs\n",
    "api_key = u'2b16cd87ab30970d4615de64cc7513d9'\n",
    "api_secret = u'eed47a4955e774d8'\n",
    "flickr = flickrapi.FlickrAPI(api_key, api_secret, format='parsed-json')\n",
    "# List of classes\n",
    "classes = ['bird', 'flower']\n",
    "#Dictionary to choose image size\n",
    "size = {'75x75':'s','150x150':'q'}\n",
    "base_path = 'C:\\\\Users\\\\ktnng\\\\Documents\\\\SCU\\\\2018 Research\\\\Images_mod\\\\Images_mod'\n",
    "#Base path to store the downloaded data, change is needed\n",
    "#base_path = '/Users/Vineet/Documents/Courses/ELEN 297/Flickr/'\n",
    "# Add a time stamp to the output directory\n",
    "timestamp = str(datetime.datetime.now()).replace(' ','-').split('.')[0]\n",
    "path = base_path+timestamp+'\\\\'\n",
    "# Number of images for train test and validation set\n",
    "sets = {'train':100, 'validation':20, 'test':20}\n",
    "NUM_PHOTOS = (sum(sets.values()))\n",
    "\n",
    "def get_photo_urls(tag,num):\n",
    "    photos = flickr.photos.search(tags=tag,per_page='200')\n",
    "    urls = []\n",
    "    cnt = 0\n",
    "    print(str(len(photos['photos']['photo']))+\" photos of \"+tag)\n",
    "    #https://farm{farm-id}.staticflickr.com/{server-id}/{id}_{o-secret}_o.(jpg|gif|png)\n",
    "    for photo in (photos['photos']['photo']):\n",
    "        farm_id = str(photo['farm'])\n",
    "        server_id = str(photo['server'])\n",
    "        id = str(photo['id'])\n",
    "        secret = str(photo['secret'])\n",
    "        urls.append('https://farm'+farm_id+'.staticflickr.com/'+server_id+'/'+id+'_'+secret+'_m.jpg')\n",
    "        cnt += 1\n",
    "        if cnt >= num:\n",
    "            break\n",
    "    return urls\n",
    "\n",
    "def download_photos(urls, path, tag,):\n",
    "    cnt = 0\n",
    "    for url in urls:\n",
    "        if cnt < sets['train']:\n",
    "            urllib.request.urlretrieve(url, path+'/train/'+tag+'/'+str(cnt)+'.jpg')\n",
    "        elif cnt < sets['validation']+sets['train']:\n",
    "            urllib.request.urlretrieve(url, path+'/validation/'+tag+'/'+str(cnt)+'.jpg')\n",
    "        else:\n",
    "            urllib.request.urlretrieve(url, path+'/test/'+tag+'/'+str(cnt)+'.jpg')\n",
    "        cnt+=1\n",
    "\n",
    "def make_dirs(sets, classes):\n",
    "    for dataset in sets.keys():\n",
    "        mkdir(path+'\\\\'+dataset)\n",
    "    for dataset in sets.keys():\n",
    "        for classtype in classes:\n",
    "            mkdir(path+'\\\\'+dataset+'\\\\'+classtype)\n",
    "\n",
    "# Make the path directory\n",
    "mkdir(path)\n",
    "# Make dirs for individual classes\n",
    "make_dirs(sets, classes)\n",
    "\n",
    "for classtype in classes:\n",
    "    #Get photos of the particular class.\n",
    "    urls = get_photo_urls(classtype, NUM_PHOTOS)\n",
    "    download_photos(urls, path, classtype)\n",
    "print(\"Done!\")\n",
    "\n"
   ]
  },
  {
   "cell_type": "code",
   "execution_count": 12,
   "metadata": {},
   "outputs": [
    {
     "data": {
      "text/plain": [
       "'C:\\\\Users\\\\ktnng\\\\Documents\\\\SCU\\\\2018 Research'"
      ]
     },
     "execution_count": 12,
     "metadata": {},
     "output_type": "execute_result"
    }
   ],
   "source": [
    "import os \n",
    "\n",
    "os.path.abspath('.')"
   ]
  }
 ],
 "metadata": {
  "kernelspec": {
   "display_name": "Python 3",
   "language": "python",
   "name": "python3"
  },
  "language_info": {
   "codemirror_mode": {
    "name": "ipython",
    "version": 3
   },
   "file_extension": ".py",
   "mimetype": "text/x-python",
   "name": "python",
   "nbconvert_exporter": "python",
   "pygments_lexer": "ipython3",
   "version": "3.6.4"
  }
 },
 "nbformat": 4,
 "nbformat_minor": 2
}
